{
 "cells": [
  {
   "cell_type": "code",
   "execution_count": 3,
   "metadata": {},
   "outputs": [],
   "source": [
    "import numpy as np\n",
    "from matplotlib import pyplot as plt\n",
    "from scipy.optimize import curve_fit\n",
    "import scipy.optimize as spo"
   ]
  },
  {
   "cell_type": "code",
   "execution_count": 15,
   "metadata": {},
   "outputs": [
    {
     "name": "stdout",
     "output_type": "stream",
     "text": [
      "Warning: Cannot change to a different GUI toolkit: notebook. Using ipympl instead.\n"
     ]
    }
   ],
   "source": [
    "%matplotlib notebook"
   ]
  },
  {
   "cell_type": "code",
   "execution_count": 4,
   "metadata": {},
   "outputs": [],
   "source": [
    "t = 2.7*10**-6"
   ]
  },
  {
   "cell_type": "code",
   "execution_count": 5,
   "metadata": {},
   "outputs": [
    {
     "name": "stdout",
     "output_type": "stream",
     "text": [
      "[ 34.65866667  34.73433333  34.67833333  34.74933333  15.73933333\n",
      "  15.76966667  15.74633333  15.77266667]\n",
      "[ 12.50133333  12.44033333  12.47233333  12.54866667]\n"
     ]
    }
   ],
   "source": [
    "# Sheet resistance measurements\n",
    "V1 = np.array([103.976, 104.203, 104.035, 104.248,\n",
    "               47.218, 47.309, 47.239, 47.318]) * 10**-3\n",
    "# Hall resistance measurements\n",
    "V2 = np.array([37.504, 37.321, 37.417, 37.646]) * 10**-3\n",
    "I = 3 * 10**-3\n",
    "\n",
    "# Sheet resistance\n",
    "R1 = V1/I\n",
    "# Hall resistance\n",
    "R2 = V2/I\n",
    "\n",
    "print R1\n",
    "print R2"
   ]
  },
  {
   "cell_type": "markdown",
   "metadata": {},
   "source": [
    "# Lab data\n",
    "----------------------------------------------------------------------"
   ]
  },
  {
   "cell_type": "markdown",
   "metadata": {},
   "source": [
    "## p-type GaAs (t=2.7$\\mu$m):"
   ]
  },
  {
   "cell_type": "markdown",
   "metadata": {},
   "source": [
    "#### Measuring the sheet resistance, $R_{sh}$\n",
    "\n",
    "| Current I, (mA) |Voltage, $V_{ij,kl}$| Value, (mV) | Resistance ($\\Omega$)\n",
    "| --------------- |:------------:|:------------:|:------------:|\n",
    "|       3         | $V_{14,23}$  | 103.976 | 7.23\n",
    "|       3         | $V_{41,32}$  | 104.203 | 7.23\n",
    "|       3         | $V_{23,14}$  | 104.035 | 7.23\n",
    "|       3         | $V_{32,41}$  | 104.248 | 7.23\n",
    "|       3         | $V_{12,43}$  | 47.218 | 2.10\n",
    "|       3         | $V_{21,34}$  | 47.309 | 2.10\n",
    "|       3         | $V_{43,12}$  | 47.293 | 2.10\n",
    "|       3         | $V_{34,21}$  | 47.318 | 2.10\n",
    "|       3         | $V_{42,31}$  | 57.188 | \n",
    "\n",
    "#### Measuring the Hall Resistance\n",
    "| Current I, (mA) |Voltage, $V_{ij,kl}$| Value, (mV) | Resistance ($\\Omega$)\n",
    "| --------------- |:------------:|:------------:|:------------:|\n",
    "|       3         | $V_{13,24}$  | 56.849 | 5.13\n",
    "|       3         | $V_{31,42}$  | 57.074 | 5.13\n",
    "|       3         | $V_{24,31}$  | 56.721 | 5.13\n",
    "|       3         | $V_{42,13}$  | 57.212 | 5.13"
   ]
  },
  {
   "cell_type": "code",
   "execution_count": 6,
   "metadata": {},
   "outputs": [
    {
     "name": "stdout",
     "output_type": "stream",
     "text": [
      "1.8181436665\n"
     ]
    }
   ],
   "source": [
    "Ra = np.average(R1[4:])\n",
    "Rb = np.average(R1[0:4])\n",
    "ratio = 103.976/57.188\n",
    "print ratio"
   ]
  },
  {
   "cell_type": "code",
   "execution_count": 7,
   "metadata": {},
   "outputs": [],
   "source": [
    "def f(y, x):\n",
    "    return np.cosh((x-1)/(x+1) * np.log(2)/y) - 0.5*np.exp(np.log(2)/y)"
   ]
  },
  {
   "cell_type": "code",
   "execution_count": 8,
   "metadata": {},
   "outputs": [
    {
     "name": "stdout",
     "output_type": "stream",
     "text": [
      "0.970103514592\n"
     ]
    }
   ],
   "source": [
    "x0 = ratio\n",
    "z = spo.brentq(f, 0.8, 0.99, (x0))\n",
    "print z"
   ]
  },
  {
   "cell_type": "code",
   "execution_count": 9,
   "metadata": {},
   "outputs": [
    {
     "name": "stdout",
     "output_type": "stream",
     "text": [
      "rho = 0.000299531258893 Ohm m\n"
     ]
    }
   ],
   "source": [
    "R_sh = (np.pi / np.log(2)) * ((Ra+Rb)/2) * z\n",
    "rho = R_sh * t\n",
    "print 'rho = ' + str(rho)+' Ohm m'"
   ]
  },
  {
   "cell_type": "markdown",
   "metadata": {},
   "source": [
    "#### $R_{H}$ : Measuring the Hall coefficient, for fixed magnetic field strength\n",
    "\n",
    "Positive Field, Positve Current\n",
    "\n",
    "| Current I, (mA) |Magnetic Field B, (mT) | Voltage, V_H (mV)\n",
    "| --------------- |:------------:|:------------:|\n",
    "|       3.00         | 100.2   | 57.097  | 57.534  | 0.437  |\n",
    "|       2.70         | 100.2   | 51.367  | 51.760  | 0.393  |\n",
    "|       2.40         | 100.2   | 45.643  | 45.992  | 0.349  |\n",
    "|       2.10         | 100.2   | 39.924  | 40.230  | 0.306  |\n",
    "|       1.80         | 100.3   | 34.223  | 34.485  | 0.262  |\n",
    "|       1.50         | 100.3   | 28.510  | 28.728  | 0.218  |\n",
    "|       1.20         | 100.3   | 22.804  | 22.979  | 0.174  |\n",
    "|       0.90         | 95.9   | 17.113  | 17.244  | 0.131  |\n",
    "|       0.60         | 95.9   | 11.420 | 11.506 | 0.087  |\n",
    "|       0.30         | 96.0   | 5.727  | 5.770  | 0.042  |\n",
    "\n",
    "Positive Field, Negative current:\n",
    "\n",
    "| Current I, (mA) |Magnetic Field B, (mT) | Voltage, V_H (mV)\n",
    "| --------------- |:------------:|:------------:|\n",
    "|       3.00         | 95.9   | -0.437\n",
    "|       2.70         | 95.9   | -0.394\n",
    "|       2.40         | 95.9   | -0.350\n",
    "|       2.10         | 95.9   | -0.306\n",
    "|       1.80         | 95.9   | -0.263\n",
    "|       1.50         | 95.9   | -0.219\n",
    "|       1.20         | 95.9   | -0.175\n",
    "|       0.90         | 95.9   | -0.131\n",
    "|       0.60         | 95.9   | -0.088\n",
    "|       0.30         | 95.9   | -0.044\n",
    "\n",
    "Negative Field, Negative current:\n",
    "\n",
    "| Current I, (mA) |Magnetic Field B, (mT) | Voltage, V_H (mV)\n",
    "| --------------- |:------------:|:------------:|\n",
    "|       3.00         | -100.0 | 0.450\n",
    "|       2.70         | -96.8  | 0.406\n",
    "|       2.40         | -96.7  | 0.360\n",
    "|       2.10         | -96.7  | 0.315\n",
    "|       1.80         | -96.8  | 0.270\n",
    "|       1.50         | -96.7  | 0.225\n",
    "|       1.20         | -96.4  | 0.181\n",
    "|       0.90         | -100.0 | 0.135\n",
    "|       0.60         | -99.9  | 0.090\n",
    "|       0.30         | -95.9  | 0.046\n",
    "\n",
    "Negative Field, Positive current:\n",
    "\n",
    "| Current I, (mA) |Magnetic Field B, (mT) | Voltage, V_H (mV)\n",
    "| --------------- |:------------:|:------------:|\n",
    "|       3.00         | -96.9   | -0.449\n",
    "|       2.70         | -96.9   | -0.405\n",
    "|       2.40         | -96.9   | -0.360\n",
    "|       2.10         | -96.9   | -0.314\n",
    "|       1.80         | -96.9   | -0.270\n",
    "|       1.50         | -96.9   | -0.225\n",
    "|       1.20         | -96.9   | -0.180\n",
    "|       0.90         | -96.9   | -0.135\n",
    "|       0.60         | -96.9   | -0.090\n",
    "|       0.30         | -96.8   | -0.046\n",
    "\n",
    "\n",
    "-------------------------------------------\n",
    "\n",
    "\n",
    "Positive Field, Positive Current\n",
    "\n",
    "| Current I, (mA) |Magnetic Field B, (mT) | Voltage, V_H (mV)\n",
    "| --------------- |:------------:|:------------:|\n",
    "|       3.00         | 153.7   | 0.722\n",
    "|       2.70         | 153.7   | 0.651\n",
    "|       2.40         | 153.6   | 0.578\n",
    "|       2.10         | 153.6   | 0.505\n",
    "|       1.80         | 153.6   | 0.434\n",
    "|       1.50         | 153.7   | 0.361\n",
    "|       1.20         | 153.7   | 0.289\n",
    "|       0.90         | 153.7   | 0.217\n",
    "|       0.60         | 153.6   | 0.145\n",
    "|       0.30         | 153.6   | 0.072\n",
    "\n",
    "Positive Field, Negative current:\n",
    "\n",
    "| Current I, (mA) |Magnetic Field B, (mT) | Voltage, V_H (mV)\n",
    "| --------------- |:------------:|:------------:|\n",
    "|       3.00         | 150.8   | -0.727\n",
    "|       2.70         | 150.6   | -0.654\n",
    "|       2.40         | 153.7   | -0.581\n",
    "|       2.10         | 150.2   | -0.506\n",
    "|       1.80         | 150.0   | -0.438\n",
    "|       1.50         | 149.9   | -0.367\n",
    "|       1.20         | 149.7   | -0.292\n",
    "|       0.90         | 149.5   | -0.222\n",
    "|       0.60         | 149.4   | -0.159\n",
    "|       0.30         | 153.6   | -0.073\n",
    "\n",
    "Negative Field, Negative current:\n",
    "\n",
    "| Current I, (mA) |Magnetic Field B, (mT) | Voltage, V_H (mV)\n",
    "| --------------- |:------------:|:------------:|\n",
    "|       3.00         | -152.9   | 0.719\n",
    "|       2.70         | -152.9   | 0.649\n",
    "|       2.40         | -152.9   | 0.575\n",
    "|       2.10         | -152.8   | 0.504\n",
    "|       1.80         | -152.8   | 0.433\n",
    "|       1.50         | -152.8   | 0.358\n",
    "|       1.20         | -152.8   | 0.287\n",
    "|       0.90         | -152.8   | 0.215\n",
    "|       0.60         | -149.6   | 0.143\n",
    "|       0.30         | -152.6   | 0.076\n",
    "\n",
    "Negative Field, Positive current:\n",
    "\n",
    "| Current I, (mA) |Magnetic Field B, (mT) | Voltage, V_H (mV)\n",
    "| --------------- |:------------:|:------------:|\n",
    "|       3.00         | -152.9   | -0.723\n",
    "|       2.70         | -152.9   | -0.649\n",
    "|       2.40         | -152.9   | -0.580\n",
    "|       2.10         | -152.9   | -0.507\n",
    "|       1.80         | -152.9   | -0.435\n",
    "|       1.50         | -152.9   | -0.362\n",
    "|       1.20         | -152.9   | -0.290\n",
    "|       0.90         | -152.9   | -0.220\n",
    "|       0.60         | -152.9   | -0.147\n",
    "|       0.30         | -152.9   | -0.072\n",
    "\n",
    "\n",
    "-------------------------------------------\n",
    "\n",
    "Positive Field, Positive Current\n",
    "\n",
    "| Current I, (mA) |Magnetic Field B, (mT) | Voltage, V_H (mV)\n",
    "| --------------- |:------------:|:------------:|\n",
    "|       3.00         | 203.1   | 0.954\n",
    "|       2.70         | 203.0   | 0.859\n",
    "|       2.40         | 203.0   | 0.764\n",
    "|       2.10         | 203.0   | 0.669\n",
    "|       1.80         | 203.0   | 0.573\n",
    "|       1.50         | 203.0   | 0.478\n",
    "|       1.20         | 203.0   | 0.382\n",
    "|       0.90         | 203.0   | 0.287\n",
    "|       0.60         | 203.0   | 0.191\n",
    "|       0.30         | 203.0   | 0.095\n",
    "\n",
    "Positive Field, Negative current:\n",
    "\n",
    "| Current I, (mA) |Magnetic Field B, (mT) | Voltage, V_H (mV)\n",
    "| --------------- |:------------:|:------------:|\n",
    "|       3.00         | 203.0   | -0.961\n",
    "|       2.70         | 203.1   | -0.868\n",
    "|       2.40         | 200.1   | -0.770\n",
    "|       2.10         | 199.7   | -0.674\n",
    "|       1.80         | 199.5   | -0.578\n",
    "|       1.50         | 199.3   | -0.482\n",
    "|       1.20         | 199.1   | -0.387\n",
    "|       0.90         | 203.1   | -0.290\n",
    "|       0.60         | 198.8   | -0.196\n",
    "|       0.30         | 203.0   | -0.098\n",
    "\n",
    "Negative Field, Negative current:\n",
    "\n",
    "| Current I, (mA) |Magnetic Field B, (mT) | Voltage, V_H (mV)\n",
    "| --------------- |:------------:|:------------:|\n",
    "|       3.00         | -202.9   | 0.959\n",
    "|       2.70         | -202.9   | 0.862\n",
    "|       2.40         | -202.9   | 0.766\n",
    "|       2.10         | -202.9   | 0.672\n",
    "|       1.80         | -203.0   | 0.575\n",
    "|       1.50         | -202.9   | 0.480\n",
    "|       1.20         | -202.9   | 0.383\n",
    "|       0.90         | -202.9   | 0.287\n",
    "|       0.60         | -202.9   | 0.192\n",
    "|       0.30         | -203.0   | 0.101\n",
    "\n",
    "Negative Field, Positive current:\n",
    "\n",
    "| Current I, (mA) |Magnetic Field B, (mT) | Voltage, V_H (mV)\n",
    "| --------------- |:------------:|:------------:|\n",
    "|       3.00         | -201.9   | -0.959\n",
    "|       2.70         | -203.0   | -0.864\n",
    "|       2.40         | -203.0   | -0.768\n",
    "|       2.10         | -202.9   | -0.672\n",
    "|       1.80         | -203.0   | -0.577\n",
    "|       1.50         | -203.0   | -0.480\n",
    "|       1.20         | -203.0   | -0.385\n",
    "|       0.90         | -202.9   | -0.289\n",
    "|       0.60         | -203.0   | -0.194\n",
    "|       0.30         | -202.9   | -0.099\n",
    "\n",
    "\n",
    "-------------------------------------------\n",
    "\n",
    "Positive Field, Positive Current\n",
    "\n",
    "| Current I, (mA) |Magnetic Field B, (mT) | Voltage, V_H (mV)\n",
    "| --------------- |:------------:|:------------:|\n",
    "|       3.00         | 250.4   | 1.178\n",
    "|       2.70         | 248.7   | 1.061\n",
    "|       2.40         | 248.6   | 0.942\n",
    "|       2.10         | 248.6   | 0.825\n",
    "|       1.80         | 249.5   | 0.707\n",
    "|       1.50         | 250.5   | 0.589\n",
    "|       1.20         | 249.3   | 0.471\n",
    "|       0.90         | 250.6   | 0.354\n",
    "|       0.60         | 250.7   | 0.236\n",
    "|       0.30         | 250.8   | 0.118\n",
    "\n",
    "Positive Field, Negative current:\n",
    "\n",
    "| Current I, (mA) |Magnetic Field B, (mT) | Voltage, V_H (mV)\n",
    "| --------------- |:------------:|:------------:|\n",
    "|       3.00         | 250.4   | -1.183\n",
    "|       2.70         | 250.4   | -1.066\n",
    "|       2.40         | 250.4   | -0.946\n",
    "|       2.10         | 250.4   | -0.829\n",
    "|       1.80         | 250.4   | -0.710\n",
    "|       1.50         | 250.4   | -0.592\n",
    "|       1.20         | 250.4   | -0.474\n",
    "|       0.90         | 250.4   | -0.356\n",
    "|       0.60         | 250.4   | -0.238\n",
    "|       0.30         | 250.4   | -0.120\n",
    "\n",
    "Negative Field, Negative current:\n",
    "\n",
    "| Current I, (mA) |Magnetic Field B, (mT) | Voltage, V_H (mV)\n",
    "| --------------- |:------------:|:------------:|\n",
    "|       3.00         | -249.4   | 1.175\n",
    "|       2.70         | -249.5   | 1.058\n",
    "|       2.40         | -249.4   | 0.941\n",
    "|       2.10         | -249.5   | 0.824\n",
    "|       1.80         | -249.4   | 0.706\n",
    "|       1.50         | -249.4   | 0.589\n",
    "|       1.20         | -248.3   | 0.471\n",
    "|       0.90         | -249.4   | 0.352\n",
    "|       0.60         | -249.4   | 0.235\n",
    "|       0.30         | -249.5   | 0.118\n",
    "\n",
    "Negative Field, Positive current:\n",
    "\n",
    "| Current I, (mA) |Magnetic Field B, (mT) | Voltage, V_H (mV)\n",
    "| --------------- |:------------:|:------------:|\n",
    "|       3.00         | -249.5   | -1.177\n",
    "|       2.70         | -249.5   | -1.059\n",
    "|       2.40         | -249.5   | -0.942\n",
    "|       2.10         | -249.5   | -0.825\n",
    "|       1.80         | -249.4   | -0.707\n",
    "|       1.50         | -249.5   | -0.590\n",
    "|       1.20         | -249.4   | -0.472\n",
    "|       0.90         | -249.5   | -0.355\n",
    "|       0.60         | -249.5   | -0.238\n",
    "|       0.30         | -249.5   | -0.120\n",
    "\n",
    "\n",
    "\n",
    "-------------------------------------------\n",
    "\n",
    "Positive Field, Positive Current\n",
    "\n",
    "| Current I, (mA) |Magnetic Field B, (mT) | Voltage, V_H (mV)\n",
    "| --------------- |:------------:|:------------:|\n",
    "|       3.00         | 298.6   | 1.411\n",
    "|       2.70         | 298.6   | 1.270\n",
    "|       2.40         | 298.6 | 1.128\n",
    "|       2.10         | 298.6 | 0.989\n",
    "|       1.80         | 298.7  | 0.846\n",
    "|       1.50         | 298.7  | 0.706\n",
    "|       1.20         | 298.7    | 0.565\n",
    "|       0.90         | 298.7   |  0.424\n",
    "|       0.60         | 298.7   | 0.282\n",
    "|       0.30         | 298.9   | 0.142\n",
    "\n",
    "Positive Field, Negative current:\n",
    "\n",
    "| Current I, (mA) |Magnetic Field B, (mT) | Voltage, V_H (mV)\n",
    "| --------------- |:------------:|:------------:|\n",
    "|       3.00         | 298.6 | -1.413\n",
    "|       2.70         | 298.6   | -1.273\n",
    "|       2.40         | 298.6 | -1.131\n",
    "|       2.10         | 298.6  | -0.991\n",
    "|       1.80         | 298.6  | -0.850\n",
    "|       1.50         | 298.6  | -0.708\n",
    "|       1.20         | 298.6  | -0.567\n",
    "|       0.90         | 298.6  | -0.426\n",
    "|       0.60         | 298.6   | -0.284\n",
    "|       0.30         | 298.6   | -0.143\n",
    "\n",
    "Negative Field, Negative current:\n",
    "\n",
    "| Current I, (mA) |Magnetic Field B, (mT) | Voltage, V_H (mV)\n",
    "| --------------- |:------------:|:------------:|\n",
    "|       3.00         | -298.2  | 1.410\n",
    "|       2.70         | -298.2  | 1.269\n",
    "|       2.40         | -298.2  | 1.127\n",
    "|       2.10         | -298.2  | 0.986\n",
    "|       1.80         | -298.2  | 0.845\n",
    "|       1.50         | -298.2  | 0.705\n",
    "|       1.20         | -298.2  | 0.564\n",
    "|       0.90         | -298.2  | 0.423\n",
    "|       0.60         | -298.2  | 0.282\n",
    "|       0.30         | -298.3  | 0.141\n",
    "\n",
    "Negative Field, Positive current:\n",
    "\n",
    "| Current I, (mA) |Magnetic Field B, (mT) | Voltage, V_H (mV)\n",
    "| --------------- |:------------:|:------------:|\n",
    "|       3.00         | -298.2   | -1.409\n",
    "|       2.70         | -298.2   | -1.268\n",
    "|       2.40         | -298.2   | -1.128\n",
    "|       2.10         | -298.2   | -0.987\n",
    "|       1.80         | -298.2   | -0.847\n",
    "|       1.50         | -298.2   | -0.707\n",
    "|       1.20         | -298.2   | -0.566\n",
    "|       0.90         | -298.2   | -0.425\n",
    "|       0.60         | -298.2   | -0.283\n",
    "|       0.30         | -298.2   | -0.142"
   ]
  },
  {
   "cell_type": "code",
   "execution_count": 10,
   "metadata": {},
   "outputs": [
    {
     "name": "stdout",
     "output_type": "stream",
     "text": [
      "[  4.45000000e-05   8.87500000e-05   1.33000000e-04   1.77500000e-04\n",
      "   2.21750000e-04   2.66250000e-04   3.10250000e-04   3.54750000e-04\n",
      "   3.99500000e-04   4.43250000e-04]\n"
     ]
    }
   ],
   "source": [
    "I = np.arange(0.3,3.3,0.3)*10**-3\n",
    "V1 = np.array([0.042, 0.087, 0.131, 0.174, 0.218, 0.262, 0.306, 0.349, 0.393, 0.437]) * 10**-3\n",
    "V2 = np.array([-0.044, -0.088, -0.131, -0.175, -0.219, -0.263, -0.306, -0.350, -0.394, -0.437]) * 10**-3\n",
    "V3 = np.array([0.046, 0.090, 0.135, 0.181, 0.225, 0.270, 0.315, 0.360, 0.406, 0.450]) * 10**-3\n",
    "V4 = np.array([-0.046, -0.090, -0.135, -0.180, -0.225, -0.270, -0.314, -0.360, -0.405, -0.449]) * 10**-3\n",
    "V = (V1 - V2 + V3 - V4)/4\n",
    "B = 95.9 * 10**-3\n",
    "IB = I*B\n",
    "print V"
   ]
  },
  {
   "cell_type": "code",
   "execution_count": 11,
   "metadata": {},
   "outputs": [
    {
     "data": {
      "application/vnd.jupyter.widget-view+json": {
       "model_id": "46a6a88520fb4869aa187fa0fcbb763d",
       "version_major": 2,
       "version_minor": 0
      },
      "text/html": [
       "<p>Failed to display Jupyter Widget of type <code>FigureCanvasNbAgg</code>.</p>\n",
       "<p>\n",
       "  If you're reading this message in the Jupyter Notebook or JupyterLab Notebook, it may mean\n",
       "  that the widgets JavaScript is still loading. If this message persists, it\n",
       "  likely means that the widgets JavaScript library is either not installed or\n",
       "  not enabled. See the <a href=\"https://ipywidgets.readthedocs.io/en/stable/user_install.html\">Jupyter\n",
       "  Widgets Documentation</a> for setup instructions.\n",
       "</p>\n",
       "<p>\n",
       "  If you're reading this message in another frontend (for example, a static\n",
       "  rendering on GitHub or <a href=\"https://nbviewer.jupyter.org/\">NBViewer</a>),\n",
       "  it may mean that your frontend doesn't currently support widgets.\n",
       "</p>\n"
      ],
      "text/plain": [
       "FigureCanvasNbAgg()"
      ]
     },
     "metadata": {},
     "output_type": "display_data"
    },
    {
     "name": "stdout",
     "output_type": "stream",
     "text": [
      "[  4.45000000e-05   8.87500000e-05   1.33000000e-04   1.77500000e-04\n",
      "   2.21750000e-04   2.66250000e-04   3.10250000e-04   3.54750000e-04\n",
      "   3.99500000e-04   4.43250000e-04]\n"
     ]
    }
   ],
   "source": [
    "fig1 = plt.figure()\n",
    "ax = fig1.add_subplot(111)\n",
    "ax.set_title('A plot of Current against Voltage, at fixed magnetic field strength')\n",
    "#ax.legend('For fixed B=0.374mT')\n",
    "ax.plot(IB, V)\n",
    "print V"
   ]
  },
  {
   "cell_type": "code",
   "execution_count": 12,
   "metadata": {},
   "outputs": [],
   "source": [
    "def y(x, A, B): # this is your 'straight line' y=f(x)\n",
    "    return A*x + B\n",
    "R_h_eff,foo = curve_fit(y, IB, V)[0] # your data x, y to fit"
   ]
  },
  {
   "cell_type": "code",
   "execution_count": 13,
   "metadata": {},
   "outputs": [
    {
     "name": "stdout",
     "output_type": "stream",
     "text": [
      "R_h effective= 1.54106234331 Ohm/Tesla\n"
     ]
    }
   ],
   "source": [
    "print 'R_h effective= ' + str(R_h_eff) + ' Ohm/Tesla'"
   ]
  },
  {
   "cell_type": "code",
   "execution_count": 14,
   "metadata": {},
   "outputs": [
    {
     "name": "stdout",
     "output_type": "stream",
     "text": [
      "mu = 0.0138912657808 m^2/Vs\n",
      "n = 1.43912844185e+24 m^-3\n"
     ]
    }
   ],
   "source": [
    "mu = R_h_eff/rho * t\n",
    "print 'mu = ' + str(mu) + ' m^2/Vs'\n",
    "n = (R_h_eff*t*1.67*10**-19)**-1\n",
    "print 'n = ' + str(n) + ' m^-3'"
   ]
  },
  {
   "cell_type": "markdown",
   "metadata": {},
   "source": [
    "$\\mu = 139 {cm}^{2}V^{-1}s^{-1}$\n",
    "\n",
    "$n = 1.49x10^{18} {cm}^{-3}$"
   ]
  }
 ],
 "metadata": {
  "kernelspec": {
   "display_name": "Python 2",
   "language": "python",
   "name": "python2"
  },
  "language_info": {
   "codemirror_mode": {
    "name": "ipython",
    "version": 2
   },
   "file_extension": ".py",
   "mimetype": "text/x-python",
   "name": "python",
   "nbconvert_exporter": "python",
   "pygments_lexer": "ipython2",
   "version": "2.7.14"
  }
 },
 "nbformat": 4,
 "nbformat_minor": 2
}
