{
 "cells": [
  {
   "cell_type": "code",
   "execution_count": 1,
   "metadata": {},
   "outputs": [],
   "source": [
    "%matplotlib ipympl"
   ]
  },
  {
   "cell_type": "code",
   "execution_count": 2,
   "metadata": {},
   "outputs": [],
   "source": [
    "import numpy as np\n",
    "from matplotlib import pyplot as plt\n",
    "from scipy.optimize import curve_fit\n",
    "import scipy.optimize as spo"
   ]
  },
  {
   "cell_type": "code",
   "execution_count": 3,
   "metadata": {},
   "outputs": [],
   "source": [
    "t = 1*10**-6"
   ]
  },
  {
   "cell_type": "code",
   "execution_count": 5,
   "metadata": {},
   "outputs": [
    {
     "name": "stdout",
     "output_type": "stream",
     "text": [
      "[ 18.56866667  18.599       18.604       18.57633333  31.12733333\n",
      "  31.05966667  31.10033333  31.10166667]\n",
      "[ 12.50133333  12.44033333  12.47233333  12.54866667]\n"
     ]
    }
   ],
   "source": [
    "# Sheet resistance measurements\n",
    "V1 = np.array([55.706, 55.797, 55.812, 55.729,\n",
    "               93.382, 93.179, 93.301, 93.305]) * 10**-3\n",
    "# Hall resistance measurements\n",
    "V2 = np.array([37.504, 37.321, 37.417, 37.646]) * 10**-3\n",
    "I = 3 * 10**-3\n",
    "\n",
    "# Sheet resistance\n",
    "R1 = V1/I\n",
    "# Hall resistance\n",
    "R2 = V2/I\n",
    "\n",
    "print R1\n",
    "print R2"
   ]
  },
  {
   "cell_type": "markdown",
   "metadata": {},
   "source": [
    "# Lab data\n",
    "----------------------------------------------------------------------"
   ]
  },
  {
   "cell_type": "markdown",
   "metadata": {},
   "source": [
    "## p-type GaAs (t=1$\\mu$m):"
   ]
  },
  {
   "cell_type": "markdown",
   "metadata": {},
   "source": [
    "#### Measuring the sheet resistance, $R_{sh}$\n",
    "\n",
    "| Current I, (mA) |Voltage, $V_{ij,kl}$| Value, (mV) | Resistance ($\\Omega$)\n",
    "| --------------- |:------------:|:------------:|:------------:|\n",
    "|       3         | $V_{14,23}$  | -55.706 | 7.23\n",
    "|       3         | $V_{41,32}$  | -55.797 | 7.23\n",
    "|       3         | $V_{23,14}$  | -55.812 | 7.23\n",
    "|       3         | $V_{32,41}$  | -55.729 | 7.23\n",
    "|       3         | $V_{12,43}$  | -93.382 | 2.10\n",
    "|       3         | $V_{21,34}$  | -93.179 | 2.10\n",
    "|       3         | $V_{43,12}$  |  -93.301| 2.10\n",
    "|       3         | $V_{34,21}$  | -93.305 | 2.10\n",
    "|       3         | $V_{42,31}$  | 37.673 | \n",
    "\n",
    "#### Measuring the Hall Resistance\n",
    "| Current I, (mA) |Voltage, $V_{ij,kl}$| Value, (mV) | Resistance ($\\Omega$)\n",
    "| --------------- |:------------:|:------------:|:------------:|\n",
    "|       3         | $V_{13,24}$  | 37.504 | 5.13\n",
    "|       3         | $V_{31,42}$  | 37.321 | 5.13\n",
    "|       3         | $V_{24,31}$  | -37.417 | 5.13\n",
    "|       3         | $V_{42,13}$  | -37.646 | 5.13"
   ]
  },
  {
   "cell_type": "code",
   "execution_count": 17,
   "metadata": {},
   "outputs": [
    {
     "name": "stdout",
     "output_type": "stream",
     "text": [
      "1.47867172776\n"
     ]
    }
   ],
   "source": [
    "Ra = np.average(R1[4:])\n",
    "Rb = np.average(R1[0:4])\n",
    "ratio = 55.706/37.673\n",
    "print ratio"
   ]
  },
  {
   "cell_type": "code",
   "execution_count": 13,
   "metadata": {},
   "outputs": [],
   "source": [
    "def f(y, x):\n",
    "    return np.cosh((x-1)/(x+1) * np.log(2)/y) - 0.5*np.exp(np.log(2)/y)"
   ]
  },
  {
   "cell_type": "code",
   "execution_count": 15,
   "metadata": {},
   "outputs": [
    {
     "name": "stdout",
     "output_type": "stream",
     "text": [
      "0.986943898712\n"
     ]
    }
   ],
   "source": [
    "x0 = ratio\n",
    "z = spo.brentq(f, 0.8, 0.99, (x0))\n",
    "print z"
   ]
  },
  {
   "cell_type": "code",
   "execution_count": 16,
   "metadata": {},
   "outputs": [
    {
     "name": "stdout",
     "output_type": "stream",
     "text": [
      "rho = 0.000111123425607 Ohm m\n"
     ]
    }
   ],
   "source": [
    "R_sh = (np.pi / np.log(2)) * ((Ra+Rb)/2) * z\n",
    "rho = R_sh * t\n",
    "print 'rho = ' + str(rho)+' Ohm m'"
   ]
  },
  {
   "cell_type": "markdown",
   "metadata": {},
   "source": [
    "#### $R_{H}$ : Measuring the Hall coefficient, for fixed magnetic field strength\n",
    "\n",
    "Positive Field, Negative Current\n",
    "\n",
    "| Current I, (mA) |Magnetic Field B, (mT) | Voltage, V_H (mV)\n",
    "| --------------- |:------------:|:------------:|\n",
    "|       3.00         | 100.2   | 0.501\n",
    "|       2.70         | 100.2   | 0.452\n",
    "|       2.40         | 100.2   | 0.401\n",
    "|       2.10         | 100.2   | 0.351\n",
    "|       1.80         | 100.3   | 0.301\n",
    "|       1.50         | 100.3   | 0.251\n",
    "|       1.20         | 100.3   | 0.200\n",
    "|       0.90         | 100.3   |0.150\n",
    "|       0.60         | 100.3   |0.100\n",
    "|       0.30         | 100.2   |0.049\n",
    "\n",
    "Positive Field, Positive current:\n",
    "\n",
    "| Current I, (mA) |Magnetic Field B, (mT) | Voltage, V_H (mV)\n",
    "| --------------- |:------------:|:------------:|\n",
    "|       3.00         | 100.2   | -0.503\n",
    "|       2.70         | 100.2   | -0.452\n",
    "|       2.40         | 100.2   | -0.402\n",
    "|       2.10         | 100.2   | -0.352\n",
    "|       1.80         | 100.7   | -0.302\n",
    "|       1.50         | 100.7   | -0.251\n",
    "|       1.20         | 100.7   | -0.201\n",
    "|       0.90         | 100.7   | -0.152\n",
    "|       0.60         | 100.7   | -0.102\n",
    "|       0.30         | 100.2   | -0.051\n",
    "\n",
    "Negative Field, Positive current:\n",
    "\n",
    "| Current I, (mA) |Magnetic Field B, (mT) | Voltage, V_H (mV)\n",
    "| --------------- |:------------:|:------------:|\n",
    "|       3.00         | -100.0   | 0.494\n",
    "|       2.70         | -100.2   | 0.444\n",
    "|       2.40         | -100.0   | 0.395\n",
    "|       2.10         | -100.0   | 0.345\n",
    "|       1.80         | -100.0   | 0.296\n",
    "|       1.50         | -100.0   | 0.247\n",
    "|       1.20         | -100.0   | 0.197\n",
    "|       0.90         | -100.0   | 0.148\n",
    "|       0.60         | -99.9   | 0.098\n",
    "|       0.30         | -100.3   | 0.049\n",
    "\n",
    "Negative Field, Negative current:\n",
    "\n",
    "| Current I, (mA) |Magnetic Field B, (mT) | Voltage, V_H (mV)\n",
    "| --------------- |:------------:|:------------:|\n",
    "|       3.00         | -100.1   | -0.494\n",
    "|       2.70         | -100.1   | -0.445\n",
    "|       2.40         | -100.1   | -0.395\n",
    "|       2.10         | -100.1   | -0.346\n",
    "|       1.80         | -100.1   | -0.296\n",
    "|       1.50         | -100.1   | -0.248\n",
    "|       1.20         | -100.1   | -0.198\n",
    "|       0.90         | -100.1   | -0.149\n",
    "|       0.60         | -100.1   | -0.099\n",
    "|       0.30         | -100.0   | -0.050\n",
    "\n",
    "\n",
    "-------------------------------------------\n",
    "\n",
    "\n",
    "Positive Field, Positive Current\n",
    "\n",
    "| Current I, (mA) |Magnetic Field B, (mT) | Voltage, V_H (mV)\n",
    "| --------------- |:------------:|:------------:|\n",
    "|       3.00         | 151.7   | 2.024\n",
    "|       2.70         | 151.5   | 1.819\n",
    "|       2.40         | 151.3   | 1.615\n",
    "|       2.10         | 151.1   | 1.412\n",
    "|       1.80         | 150.9   | 1.208\n",
    "|       1.50         | 150.7   | 1.006\n",
    "|       1.20         | 150.4   | 0.804\n",
    "|       0.90         | 150.2   |0.602\n",
    "|       0.60         | 150.0   |0.402\n",
    "|       0.30         | 150.0   |0.202\n",
    "\n",
    "Positive Field, Negative current:\n",
    "\n",
    "| Current I, (mA) |Magnetic Field B, (mT) | Voltage, V_H (mV)\n",
    "| --------------- |:------------:|:------------:|\n",
    "|       3.00         | 150.8   | -2.011\n",
    "|       2.70         | 150.6   | -1.807\n",
    "|       2.40         | 150.4   | -1.603\n",
    "|       2.10         | 150.2   | -1.402\n",
    "|       1.80         | 150.0   | -1.200\n",
    "|       1.50         | 149.9   | -1.000\n",
    "|       1.20         | 149.7   | -0.799\n",
    "|       0.90         | 149.5   | -0.599\n",
    "|       0.60         | 149.4   | -0.399\n",
    "|       0.30         | 149.9   | -0.201\n",
    "\n",
    "Negative Field, Negative current:\n",
    "\n",
    "| Current I, (mA) |Magnetic Field B, (mT) | Voltage, V_H (mV)\n",
    "| --------------- |:------------:|:------------:|\n",
    "|       3.00         | -150.7   | 2.002\n",
    "|       2.70         | -150.7   | 1.800\n",
    "|       2.40         | -150.4   | 1.598\n",
    "|       2.10         | -150.3   | 1.398\n",
    "|       1.80         | -150.2   | 1.197\n",
    "|       1.50         | -150.1   | 0.997\n",
    "|       1.20         | -149.9   | 0.799\n",
    "|       0.90         | -149.7   | 0.599\n",
    "|       0.60         | -149.6   | 0.400\n",
    "|       0.30         | -149.9   | 0.214\n",
    "\n",
    "Negative Field, Positive current:\n",
    "\n",
    "| Current I, (mA) |Magnetic Field B, (mT) | Voltage, V_H (mV)\n",
    "| --------------- |:------------:|:------------:|\n",
    "|       3.00         | -150.5   | -1.999\n",
    "|       2.70         | -150.4   | -1.798\n",
    "|       2.40         | -150.3   | -1.597\n",
    "|       2.10         | -150.2   | -1.396\n",
    "|       1.80         | -150.1   | -1.196\n",
    "|       1.50         | -150.0   | -0.996\n",
    "|       1.20         | -149.9   | -0.796\n",
    "|       0.90         | -149.7   | -0.596\n",
    "|       0.60         | -149.7   | -0.398\n",
    "|       0.30         | -149.9   | -0.202\n",
    "\n",
    "\n",
    "-------------------------------------------\n",
    "\n",
    "Positive Field, Positive Current\n",
    "\n",
    "| Current I, (mA) |Magnetic Field B, (mT) | Voltage, V_H (mV)\n",
    "| --------------- |:------------:|:------------:|\n",
    "|       3.00         | 204.0   | 2.726\n",
    "|       2.70         | 203.8   | 2.451\n",
    "|       2.40         | 203.6   | 2.177\n",
    "|       2.10         | 203.3   | 1.903\n",
    "|       1.80         | 203.1   | 1.630\n",
    "|       1.50         | 202.9   | 1.357\n",
    "|       1.20         | 202.7   | 1.085\n",
    "|       0.90         | 202.5   |0.813\n",
    "|       0.60         | 202.3   |0.542\n",
    "|       0.30         | 202.2   |0.286\n",
    "\n",
    "Positive Field, Negative current:\n",
    "\n",
    "| Current I, (mA) |Magnetic Field B, (mT) | Voltage, V_H (mV)\n",
    "| --------------- |:------------:|:------------:|\n",
    "|       3.00         | 200.5   | -2.677\n",
    "|       2.70         | 200.3   | -2.407\n",
    "|       2.40         | 200.1   | -2.138\n",
    "|       2.10         | 199.7   | -1.867\n",
    "|       1.80         | 199.5   | -1.599\n",
    "|       1.50         | 199.3   | -1.331\n",
    "|       1.20         | 199.1   | -1.064\n",
    "|       0.90         | 198.9   | -0.797\n",
    "|       0.60         | 198.8   | -0.531\n",
    "|       0.30         | 199.9   | -0.268\n",
    "\n",
    "Negative Field, Negative current:\n",
    "\n",
    "| Current I, (mA) |Magnetic Field B, (mT) | Voltage, V_H (mV)\n",
    "| --------------- |:------------:|:------------:|\n",
    "|       3.00         | -195.9   | 1.012\n",
    "|       2.70         | -195.9   | 0.910\n",
    "|       2.40         | -195.9   | 0.810\n",
    "|       2.10         | -195.9   | 0.709\n",
    "|       1.80         | -196.0   | 0.608\n",
    "|       1.50         | -196.0   | 0.506\n",
    "|       1.20         | -196.0   | 0.406\n",
    "|       0.90         | -196.1   | 0.305\n",
    "|       0.60         | -196.2   | 0.203\n",
    "|       0.30         | -196.5   | 0.103\n",
    "\n",
    "Negative Field, Positive current:\n",
    "\n",
    "| Current I, (mA) |Magnetic Field B, (mT) | Voltage, V_H (mV)\n",
    "| --------------- |:------------:|:------------:|\n",
    "|       3.00         | -201.9   | -2.689\n",
    "|       2.70         | -201.7   | -2.417\n",
    "|       2.40         | -201.6   | -2.147\n",
    "|       2.10         | -201.5   | -1.878\n",
    "|       1.80         | -201.4   | -1.609\n",
    "|       1.50         | -201.3   | -1.340\n",
    "|       1.20         | -201.2   | -1.072\n",
    "|       0.90         | -201.1   | -0.803\n",
    "|       0.60         | -200.9   | -0.536\n",
    "|       0.30         | -201.0   | -0.268\n",
    "\n",
    "\n",
    "-------------------------------------------\n",
    "\n",
    "Positive Field, Positive Current\n",
    "\n",
    "| Current I, (mA) |Magnetic Field B, (mT) | Voltage, V_H (mV)\n",
    "| --------------- |:------------:|:------------:|\n",
    "|       3.00         | 248.9   | 3.314\n",
    "|       2.70         | 248.7   | 2.981\n",
    "|       2.40         | 248.6   | 2.648\n",
    "|       2.10         | 248.6   | 2.317\n",
    "|       1.80         | 249.5   | 1.985\n",
    "|       1.50         | 248.4   | 1.653\n",
    "|       1.20         | 249.3   | 1.322\n",
    "|       0.90         | 249.3   |0.992\n",
    "|       0.60         | 249.3   |0.662\n",
    "|       0.30         | 249.0   |0.332\n",
    "\n",
    "Positive Field, Negative current:\n",
    "\n",
    "| Current I, (mA) |Magnetic Field B, (mT) | Voltage, V_H (mV)\n",
    "| --------------- |:------------:|:------------:|\n",
    "|       3.00         | 249.9   | -3.329\n",
    "|       2.70         | 249.8   | -2.995\n",
    "|       2.40         | 249.7   | -2.661\n",
    "|       2.10         | 249.6   | -2.327\n",
    "|       1.80         | 249.5   | -1.994\n",
    "|       1.50         | 249.4   | -1.661\n",
    "|       1.20         | 249.3   | -1.329\n",
    "|       0.90         | 249.2   | -0.996\n",
    "|       0.60         | 249.1   | -0.664\n",
    "|       0.30         | 249.9   | -0.333\n",
    "\n",
    "Negative Field, Negative current:\n",
    "\n",
    "| Current I, (mA) |Magnetic Field B, (mT) | Voltage, V_H (mV)\n",
    "| --------------- |:------------:|:------------:|\n",
    "|       3.00         | -249.9   | 3.319\n",
    "|       2.70         | -249.9   | 2.986\n",
    "|       2.40         | -249.7   | 2.653\n",
    "|       2.10         | -249.6   | 2.321\n",
    "|       1.80         | -249.5   | 1.989\n",
    "|       1.50         | -249.4   | 1.658\n",
    "|       1.20         | -248.3   | 1.326\n",
    "|       0.90         | -249.2   | 0.994\n",
    "|       0.60         | -248.1   | 0.663\n",
    "|       0.30         | -249.1   | 0.349\n",
    "\n",
    "Negative Field, Positive current:\n",
    "\n",
    "| Current I, (mA) |Magnetic Field B, (mT) | Voltage, V_H (mV)\n",
    "| --------------- |:------------:|:------------:|\n",
    "|       3.00         | -250.3   | -3.329\n",
    "|       2.70         | -249.7   | -2.995\n",
    "|       2.40         | -249.6   | -2.661\n",
    "|       2.10         | -249.5   | -2.329\n",
    "|       1.80         | -249.4   | -1.995\n",
    "|       1.50         | -249.3   | -1.663\n",
    "|       1.20         | -249.3   | -1.328\n",
    "|       0.90         | -249.2   | -0.998\n",
    "|       0.60         | -249.1   | -0.665\n",
    "|       0.30         | -249.0   | -0.333\n",
    "\n",
    "\n",
    "\n",
    "-------------------------------------------\n",
    "\n",
    "Positive Field, Positive Current\n",
    "\n",
    "| Current I, (mA) |Magnetic Field B, (mT) | Voltage, V_H (mV)\n",
    "| --------------- |:------------:|:------------:|\n",
    "|       3.00         | 301   | 4.046\n",
    "|       2.70         | 301   | 3.641\n",
    "|       2.40         | 301   | 3.235\n",
    "|       2.10         | 301 | 2.831\n",
    "|       1.80         | 301   | 2.427\n",
    "|       1.50         | 301   | 2.022\n",
    "|       1.20         | 301     | 1.618\n",
    "|       0.90         | 301   | 1.213\n",
    "|       0.60         | 301   | 0.809\n",
    "|       0.30         | 301   | 0.406\n",
    "\n",
    "Positive Field, Negative current:\n",
    "\n",
    "| Current I, (mA) |Magnetic Field B, (mT) | Voltage, V_H (mV)\n",
    "| --------------- |:------------:|:------------:|\n",
    "|       3.00         | 302   | -4.049\n",
    "|       2.70         | 302   | -3.644\n",
    "|       2.40         | 302   | -3.240\n",
    "|       2.10         | 302   | -2.834\n",
    "|       1.80         | 302   | -2.430\n",
    "|       1.50         | 302   | -2.024\n",
    "|       1.20         | 302   | -1.619\n",
    "|       0.90         | 302   | -1.215\n",
    "|       0.60         | 301   | -0.810\n",
    "|       0.30         | 301   | -0.405\n",
    "\n",
    "Negative Field, Negative current:\n",
    "\n",
    "| Current I, (mA) |Magnetic Field B, (mT) | Voltage, V_H (mV)\n",
    "| --------------- |:------------:|:------------:|\n",
    "|       3.00         | -301   | 4.017\n",
    "|       2.70         | -301   | 3.615\n",
    "|       2.40         | -301   | 3.213\n",
    "|       2.10         | -301   | 2.811\n",
    "|       1.80         | -301   | 2.410\n",
    "|       1.50         | -301   | 2.008\n",
    "|       1.20         | -301   | 1.607\n",
    "|       0.90         | -301   | 1.205\n",
    "|       0.60         | -301   | 0.804\n",
    "|       0.30         | -301   | 0.403\n",
    "\n",
    "Negative Field, Positive current:\n",
    "\n",
    "| Current I, (mA) |Magnetic Field B, (mT) | Voltage, V_H (mV)\n",
    "| --------------- |:------------:|:------------:|\n",
    "|       3.00         | -301   | -4.020\n",
    "|       2.70         | -301   | -3.617\n",
    "|       2.40         | -301   | -3.215\n",
    "|       2.10         | -301   | -2.814\n",
    "|       1.80         | -301   | -2.411\n",
    "|       1.50         | -301   | -2.010\n",
    "|       1.20         | -301   | -1.608\n",
    "|       0.90         | -301   | -1.206\n",
    "|       0.60         | -301   | -0.804\n",
    "|       0.30         | -301   | -0.405"
   ]
  },
  {
   "cell_type": "code",
   "execution_count": 24,
   "metadata": {},
   "outputs": [
    {
     "name": "stdout",
     "output_type": "stream",
     "text": [
      "[  4.97500000e-05   9.97500000e-05   1.49750000e-04   1.99000000e-04\n",
      "   2.49250000e-04   2.98750000e-04   3.48500000e-04   3.98250000e-04\n",
      "   4.48250000e-04   4.98000000e-04]\n"
     ]
    }
   ],
   "source": [
    "I = np.arange(0.3,3.3,0.3)*10**-3\n",
    "V1 = np.array([0.049, 0.100, 0.150, 0.200, 0.251, 0.301, 0.351, 0.401, 0.452, 0.501]) * 10**-3\n",
    "V2 = np.array([-0.051, -0.102, -0.152, -0.201, -0.251, -0.302, -0.352, -0.402, -0.452, -0.503]) * 10**-3\n",
    "V3 = np.array([0.049, 0.098, 0.148, 0.197, 0.247, 0.296, 0.345, 0.395, 0.444, 0.494]) * 10**-3\n",
    "V4 = np.array([-0.050, -0.099, -0.149, -0.198, -0.248, -0.296, -0.346, -0.395, -0.445, -0.494]) * 10**-3\n",
    "V = (V1 - V2 + V3 - V4)/4\n",
    "B = 102.5 * 10**-3\n",
    "IB = I*B\n",
    "print V"
   ]
  },
  {
   "cell_type": "code",
   "execution_count": 25,
   "metadata": {},
   "outputs": [
    {
     "data": {
      "application/vnd.jupyter.widget-view+json": {
       "model_id": "8364a750b9e24c0c8859e05f9e4bfcd6",
       "version_major": 2,
       "version_minor": 0
      },
      "text/html": [
       "<p>Failed to display Jupyter Widget of type <code>FigureCanvasNbAgg</code>.</p>\n",
       "<p>\n",
       "  If you're reading this message in the Jupyter Notebook or JupyterLab Notebook, it may mean\n",
       "  that the widgets JavaScript is still loading. If this message persists, it\n",
       "  likely means that the widgets JavaScript library is either not installed or\n",
       "  not enabled. See the <a href=\"https://ipywidgets.readthedocs.io/en/stable/user_install.html\">Jupyter\n",
       "  Widgets Documentation</a> for setup instructions.\n",
       "</p>\n",
       "<p>\n",
       "  If you're reading this message in another frontend (for example, a static\n",
       "  rendering on GitHub or <a href=\"https://nbviewer.jupyter.org/\">NBViewer</a>),\n",
       "  it may mean that your frontend doesn't currently support widgets.\n",
       "</p>\n"
      ],
      "text/plain": [
       "FigureCanvasNbAgg()"
      ]
     },
     "metadata": {},
     "output_type": "display_data"
    },
    {
     "name": "stdout",
     "output_type": "stream",
     "text": [
      "[  4.97500000e-05   9.97500000e-05   1.49750000e-04   1.99000000e-04\n",
      "   2.49250000e-04   2.98750000e-04   3.48500000e-04   3.98250000e-04\n",
      "   4.48250000e-04   4.98000000e-04]\n"
     ]
    }
   ],
   "source": [
    "fig1 = plt.figure()\n",
    "ax = fig1.add_subplot(111)\n",
    "ax.set_title('A plot of Current against Voltage, at fixed magnetic field strength')\n",
    "#ax.legend('For fixed B=0.374mT')\n",
    "ax.plot(IB, V)\n",
    "print V"
   ]
  },
  {
   "cell_type": "code",
   "execution_count": 26,
   "metadata": {},
   "outputs": [],
   "source": [
    "def y(x, A, B): # this is your 'straight line' y=f(x)\n",
    "    return A*x + B\n",
    "R_h_eff,foo = curve_fit(y, IB, V)[0] # your data x, y to fit"
   ]
  },
  {
   "cell_type": "code",
   "execution_count": 27,
   "metadata": {},
   "outputs": [
    {
     "name": "stdout",
     "output_type": "stream",
     "text": [
      "R_h effective= 1.6189701914 Ohm/Tesla\n"
     ]
    }
   ],
   "source": [
    "print 'R_h effective= ' + str(R_h_eff) + ' Ohm/Tesla'"
   ]
  },
  {
   "cell_type": "code",
   "execution_count": 28,
   "metadata": {},
   "outputs": [
    {
     "name": "stdout",
     "output_type": "stream",
     "text": [
      "mu = 0.043707351062 m^2/Vs\n",
      "n = 1.23288742105e+24 m^-3\n"
     ]
    }
   ],
   "source": [
    "mu = R_h_eff/rho * 3*10**-6\n",
    "print 'mu = ' + str(mu) + ' m^2/Vs'\n",
    "n = (R_h_eff*3*10**-6*1.67*10**-19)**-1\n",
    "print 'n = ' + str(n) + ' m^-3'"
   ]
  },
  {
   "cell_type": "markdown",
   "metadata": {},
   "source": [
    "$\\mu = 437 {cm}^{2}V^{-1}s^{-1}$\n",
    "\n",
    "$n = 1.23x10^{18} {cm}^{-3}$"
   ]
  }
 ],
 "metadata": {
  "kernelspec": {
   "display_name": "Python 2",
   "language": "python",
   "name": "python2"
  },
  "language_info": {
   "codemirror_mode": {
    "name": "ipython",
    "version": 2
   },
   "file_extension": ".py",
   "mimetype": "text/x-python",
   "name": "python",
   "nbconvert_exporter": "python",
   "pygments_lexer": "ipython2",
   "version": "2.7.14"
  }
 },
 "nbformat": 4,
 "nbformat_minor": 2
}
