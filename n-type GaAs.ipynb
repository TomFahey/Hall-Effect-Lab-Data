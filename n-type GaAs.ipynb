{
 "cells": [
  {
   "cell_type": "code",
   "execution_count": 2,
   "metadata": {},
   "outputs": [],
   "source": [
    "import numpy as np\n",
    "from matplotlib import pyplot as plt\n",
    "from scipy.optimize import curve_fit\n",
    "import scipy.optimize as spo"
   ]
  },
  {
   "cell_type": "code",
   "execution_count": 1,
   "metadata": {},
   "outputs": [],
   "source": [
    "%matplotlib notebook"
   ]
  },
  {
   "cell_type": "code",
   "execution_count": 4,
   "metadata": {},
   "outputs": [],
   "source": [
    "# Sample thickness\n",
    "t = 3*10**-6"
   ]
  },
  {
   "cell_type": "code",
   "execution_count": 7,
   "metadata": {},
   "outputs": [],
   "source": [
    "# Sheet resistance measurements\n",
    "V1 = np.array([21.68, 21.68, 21.68, 21.68,\n",
    "              6.297, 6.296, 6.295, 6.297]) * 10**-3\n",
    "# Hall resistance measurements\n",
    "V2 = np.array([15.389, 15.388, -15.393, -15.393]) * 10**-3\n",
    "I = 3 * 10**-3"
   ]
  },
  {
   "cell_type": "markdown",
   "metadata": {},
   "source": [
    "# Lab data\n",
    "----------------------------------------------------------------------"
   ]
  },
  {
   "cell_type": "markdown",
   "metadata": {},
   "source": [
    "## n-type GaAs (t=3$\\mu$m):"
   ]
  },
  {
   "cell_type": "markdown",
   "metadata": {},
   "source": [
    "#### Measuring the sheet resistance, $R_{sh}$\n",
    "\n",
    "| Current I, (mA) |Voltage, $V_{ij,kl}$| Value, (mV) | Resistance ($\\Omega$)\n",
    "| --------------- |:------------:|:------------:|:------------:|\n",
    "|       3         | $V_{14,23}$  | 21.68 | 7.23\n",
    "|       3         | $V_{41,32}$  | 21.68 | 7.23\n",
    "|       3         | $V_{23,14}$  | 21.68 | 7.23\n",
    "|       3         | $V_{32,41}$  | 21.68 | 7.23\n",
    "|       3         | $V_{12,43}$  | 6.297 | 2.10\n",
    "|       3         | $V_{21,34}$  | 6.296 | 2.10\n",
    "|       3         | $V_{43,12}$  | 6.295 | 2.10\n",
    "|       3         | $V_{34,21}$  | 6.297 | 2.10\n",
    "|       3         | $V_{42,31}$  | 15.393| \n",
    "\n",
    "#### Measuring the Hall Resistance\n",
    "| Current I, (mA) |Voltage, $V_{ij,kl}$| Value, (mV) | Resistance ($\\Omega$)\n",
    "| --------------- |:------------:|:------------:|:------------:|\n",
    "|       3         | $V_{13,24}$  | 15.489 | 5.13\n",
    "|       3         | $V_{31,42}$  | 15.488 | 5.13\n",
    "|       3         | $V_{24,31}$  | -15.493 | 5.13\n",
    "|       3         | $V_{42,13}$  | -15.493 | 5.13"
   ]
  },
  {
   "cell_type": "code",
   "execution_count": 8,
   "metadata": {},
   "outputs": [],
   "source": [
    "Ra = np.average(R1[4:])\n",
    "Rb = np.average(R1[0:4])\n",
    "ratio = 21.68/15.393"
   ]
  },
  {
   "cell_type": "code",
   "execution_count": 12,
   "metadata": {},
   "outputs": [],
   "source": [
    "def f(y, x=1.408):\n",
    "    return np.cosh((x-1)/(x+1) * np.log(2)/y) - 0.5*np.exp(np.log(2)/y)"
   ]
  },
  {
   "cell_type": "code",
   "execution_count": 10,
   "metadata": {},
   "outputs": [],
   "source": [
    "x0 = ratio\n",
    "z = spo.brentq(f, 0.8, 0.99, (x0))"
   ]
  },
  {
   "cell_type": "code",
   "execution_count": 13,
   "metadata": {},
   "outputs": [
    {
     "name": "stdout",
     "output_type": "stream",
     "text": [
      "rho = 6.27623992901e-05 Ohm m\n"
     ]
    }
   ],
   "source": [
    "# Sheet resistance\n",
    "R_sh = (np.pi / np.log(2)) * ((Ra+Rb)/2) * z\n",
    "# Resistivity\n",
    "rho = R_sh * t\n",
    "print 'rho = ' + str(rho)+' Ohm m'"
   ]
  },
  {
   "cell_type": "markdown",
   "metadata": {},
   "source": [
    "#### $R_{H}$ : Measuring the Hall coefficient, for fixed magnetic field strength\n",
    "\n",
    "Positive Field, Positive Current\n",
    "\n",
    "| Current I, (mA) |Magnetic Field B, (mT) | Voltage, V_H (mV)\n",
    "| --------------- |:------------:|:------------:|\n",
    "|       3.00         | 100.2   | 1.526\n",
    "|       2.70         | 100.2   | 1.374\n",
    "|       2.40         | 100.2   | 1.221\n",
    "|       2.10         | 100.2   | 1.068\n",
    "|       2.00         | 100.2   | 1.017\n",
    "|       1.80         | 100.2   | 0.915\n",
    "|       1.50         | 100.2   | 0.763\n",
    "|       1.20         | 100.2   | 0.610\n",
    "|       0.90         | 100.2   |0.510\n",
    "|       0.60         | 100.2   |0.306\n",
    "|       0.30         | 100.2   |0.153\n",
    "\n",
    "\n",
    "\n",
    "Positive Field, Negative current:\n",
    "\n",
    "| Current I, (mA) |Magnetic Field B, (mT) | Voltage, V_H (mV)\n",
    "| --------------- |:------------:|:------------:|\n",
    "|       3.00         | 100.2   | -1.525\n",
    "|       2.70         | 100.2   | -1.373\n",
    "|       2.40         | 100.2   | -1.221\n",
    "|       2.10         | 100.2   | -1.068\n",
    "|       1.80         | 100.2   | -0.915\n",
    "|       1.50         | 100.2   | -0.732\n",
    "|       1.20         | 100.2   | -0.611\n",
    "|       0.90         | 100.2   | -0.458\n",
    "|       0.60         | 100.2   | -0.305\n",
    "|       0.30         | 100.2   | -0.153\n",
    "\n",
    "Negative Field, Positive current:\n",
    "\n",
    "| Current I, (mA) |Magnetic Field B, (mT) | Voltage, V_H (mV)\n",
    "| --------------- |:------------:|:------------:|\n",
    "|       3.00         | -100.3   | -1.438\n",
    "|       2.70         | -100.3   | -1.294\n",
    "|       2.40         | -100.3   | -1.151\n",
    "|       2.10         | -100.3   | -1.008\n",
    "|       1.80         | -100.3   | -0.864\n",
    "|       1.50         | -100.3   | -0.720\n",
    "|       1.20         | -100.3   | -0.577\n",
    "|       0.90         | -100.3   | -0.433\n",
    "|       0.60         | -100.3   | -0.289\n",
    "|       0.30         | -100.3   | -0.145\n",
    "\n",
    "Negative Field, Negative current:\n",
    "\n",
    "| Current I, (mA) |Magnetic Field B, (mT) | Voltage, V_H (mV)\n",
    "| --------------- |:------------:|:------------:|\n",
    "|       3.00         | -100.3   | 1.437\n",
    "|       2.70         | -100.3   | 1.292\n",
    "|       2.40         | -100.3   | 1.149\n",
    "|       2.10         | -100.3   | 1.006\n",
    "|       1.80         | -100.3   | 0.862\n",
    "|       1.50         | -100.3   | 0.718\n",
    "|       1.20         | -100.3   | 0.575\n",
    "|       0.90         | -100.3   | 0.431\n",
    "|       0.60         | -100.3   | 0.288\n",
    "|       0.30         | -100.3   | 0.144\n",
    "\n",
    "-------------------------------------------\n",
    "\n",
    "\n",
    "Positive Field, Positive Current\n",
    "\n",
    "| Current I, (mA) |Magnetic Field B, (mT) | Voltage, V_H (mV)\n",
    "| --------------- |:------------:|:------------:|\n",
    "|       3.00         | 150.1   | 2.407\n",
    "|       2.70         | 150.1   | 2.166\n",
    "|       2.40         | 150.1   | 1.926\n",
    "|       2.10         | 150.2   | 1.686\n",
    "|       1.80         | 150.2   | 1.445\n",
    "|       1.50         | 150.3   | 1.205\n",
    "|       1.20         | 150.3   | 0.965\n",
    "|       0.90         | 150.3   |0.723\n",
    "|       0.60         | 150.4   |0.483\n",
    "|       0.30         | 149.8   |0.242\n",
    "\n",
    "Positive Field, Negative current:\n",
    "\n",
    "| Current I, (mA) |Magnetic Field B, (mT) | Voltage, V_H (mV)\n",
    "| --------------- |:------------:|:------------:|\n",
    "|       3.00         | 150.1   | -2.406\n",
    "|       2.70         | 150.1   | -2.166\n",
    "|       2.40         | 150.1   | -1.926\n",
    "|       2.10         | 150.1   | -1.685\n",
    "|       1.80         | 150.1   | -1.445\n",
    "|       1.50         | 150.1   | -1.204\n",
    "|       1.20         | 150.1   | -0.963\n",
    "|       0.90         | 150.1   | -0.723\n",
    "|       0.60         | 150.0   | -0.482\n",
    "|       0.30         | 150.1   | -0.242\n",
    "\n",
    "Negative Field, Negative current:\n",
    "\n",
    "| Current I, (mA) |Magnetic Field B, (mT) | Voltage, V_H (mV)\n",
    "| --------------- |:------------:|:------------:|\n",
    "|       3.00         | -150.4   | 2.415\n",
    "|       2.70         | -150.4   | 2.175\n",
    "|       2.40         | -150.4   | 1.934\n",
    "|       2.10         | -150.3   | 1.691\n",
    "|       1.80         | -150.4   | 1.449\n",
    "|       1.50         | -150.3   | 1.208\n",
    "|       1.20         | -150.3   | 0.967\n",
    "|       0.90         | -150.3   | 0.725\n",
    "|       0.60         | -150.2   | 0.482\n",
    "|       0.30         | -150.1   | 0.243\n",
    "\n",
    "Negative Field, Positive current:\n",
    "\n",
    "| Current I, (mA) |Magnetic Field B, (mT) | Voltage, V_H (mV)\n",
    "| --------------- |:------------:|:------------:|\n",
    "|       3.00         | -150.5   | -2.415\n",
    "|       2.70         | -150.8   | -2.173\n",
    "|       2.40         | -150.8   | -1.932\n",
    "|       2.10         | -150.8   | -1.691\n",
    "|       1.80         | -150.8   | -1.449\n",
    "|       1.50         | -150.8   | -1.208\n",
    "|       1.20         | -150.8   | -0.967\n",
    "|       0.90         | -150.8   | -0.725\n",
    "|       0.60         | -150.8   | -0.484\n",
    "|       0.30         | -150.8   | -0.243\n",
    "\n",
    "\n",
    "-------------------------------------------\n",
    "\n",
    "Positive Field, Positive Current\n",
    "\n",
    "| Current I, (mA) |Magnetic Field B, (mT) | Voltage, V_H (mV)\n",
    "| --------------- |:------------:|:------------:|\n",
    "|       3.00         | 204.0   | 3.264\n",
    "|       2.70         | 203.1   | 2.937\n",
    "|       2.40         | 203.1   | 2.611\n",
    "|       2.10         | 203.1   | 2.285\n",
    "|       1.80         | 203.1   | 1.959\n",
    "|       1.50         | 203.1   | 1.633\n",
    "|       1.20         | 203.1   | 1.306\n",
    "|       0.90         | 203.1   | 0.981\n",
    "|       0.60         | 203.1   | 0.654\n",
    "|       0.30         | 203.1   | 0.326\n",
    "\n",
    "Positive Field, Negative current:\n",
    "\n",
    "| Current I, (mA) |Magnetic Field B, (mT) | Voltage, V_H (mV)\n",
    "| --------------- |:------------:|:------------:|\n",
    "|       3.00         | 203.1   | -3.263\n",
    "|       2.70         | 203.1   | -2.937\n",
    "|       2.40         | 203.1   | - 2.612 \n",
    "|       2.10         | 203.1   | - 2.285\n",
    "|       1.80         | 203.1   | -1.959\n",
    "|       1.50         | 203.1   | -1.633\n",
    "|       1.20         | 203.1   | -1.306\n",
    "|       0.90         | 203.1   | -0.980\n",
    "|       0.60         | 203.1   | -0.654\n",
    "|       0.30         | 203.1       | -0.328\n",
    "\n",
    "Negative Field, Negative current:\n",
    "\n",
    "| Current I, (mA) |Magnetic Field B, (mT) | Voltage, V_H (mV)\n",
    "| --------------- |:------------:|:------------:|\n",
    "|       3.00         | -200.7   | 2.672\n",
    "|       2.70         | -200.5   | 2.404\n",
    "|       2.40         | -200.5   | 2.135\n",
    "|       2.10         | -200.3   | 1.867\n",
    "|       1.80         | -200.3   | 1.599\n",
    "|       1.50         | -200.0   | 1.333\n",
    "|       1.20         | -199.8   | 1.065\n",
    "|       0.90         | -199.7   | 0.798\n",
    "|       0.60         | -199.5   | 0.533\n",
    "|       0.30         | -200.0   | 0\n",
    "\n",
    "Negative Field, Positive current:\n",
    "\n",
    "| Current I, (mA) |Magnetic Field B, (mT) | Voltage, V_H (mV)\n",
    "| --------------- |:------------:|:------------:|\n",
    "|       3.00         | -201.9   | -2.689\n",
    "|       2.70         | -201.7   | -2.417\n",
    "|       2.40         | -201.6   | -2.147\n",
    "|       2.10         | -201.5   | -1.878\n",
    "|       1.80         | -201.4   | -1.609\n",
    "|       1.50         | -201.3   | -1.340\n",
    "|       1.20         | -201.2   | -1.072\n",
    "|       0.90         | -201.1   | -0.803\n",
    "|       0.60         | -200.9   | -0.536\n",
    "|       0.30         | -200.8   | -0.268\n",
    "\n",
    "\n",
    "-------------------------------------------\n",
    "\n",
    "Positive Field, Positive Current\n",
    "\n",
    "| Current I, (mA) |Magnetic Field B, (mT) | Voltage, V_H (mV)\n",
    "| --------------- |:------------:|:------------:|\n",
    "|       3.00         | 248.9   | 3.314\n",
    "|       2.70         | 248.7   | 2.981\n",
    "|       2.40         | 248.6   | 2.648\n",
    "|       2.10         | 248.6   | 2.317\n",
    "|       1.80         | 249.5   | 1.985\n",
    "|       1.50         | 248.4   | 1.653\n",
    "|       1.20         | 249.3   | 1.322\n",
    "|       0.90         | 249.3   |0.992\n",
    "|       0.60         | 249.3   |0.662\n",
    "|       0.30         | 249.0   |0.332\n",
    "\n",
    "Positive Field, Negative current:\n",
    "\n",
    "| Current I, (mA) |Magnetic Field B, (mT) | Voltage, V_H (mV)\n",
    "| --------------- |:------------:|:------------:|\n",
    "|       3.00         | 249.9   | -3.329\n",
    "|       2.70         | 249.8   | -2.995\n",
    "|       2.40         | 249.7   | -2.661\n",
    "|       2.10         | 249.6   | -2.327\n",
    "|       1.80         | 249.5   | -1.994\n",
    "|       1.50         | 249.4   | -1.661\n",
    "|       1.20         | 249.3   | -1.329\n",
    "|       0.90         | 249.2   | -0.996\n",
    "|       0.60         | 249.1   | -0.664\n",
    "|       0.30         | 249.9   | -0.333\n",
    "\n",
    "Negative Field, Negative current:\n",
    "\n",
    "| Current I, (mA) |Magnetic Field B, (mT) | Voltage, V_H (mV)\n",
    "| --------------- |:------------:|:------------:|\n",
    "|       3.00         | -249.9   | 3.319\n",
    "|       2.70         | -249.9   | 2.986\n",
    "|       2.40         | -249.7   | 2.653\n",
    "|       2.10         | -249.6   | 2.321\n",
    "|       1.80         | -249.5   | 1.989\n",
    "|       1.50         | -249.4   | 1.658\n",
    "|       1.20         | -248.3   | 1.326\n",
    "|       0.90         | -249.2   | 0.994\n",
    "|       0.60         | -248.1   | 0.663\n",
    "|       0.30         | -249.1   | 0.349\n",
    "\n",
    "Negative Field, Positive current:\n",
    "\n",
    "| Current I, (mA) |Magnetic Field B, (mT) | Voltage, V_H (mV)\n",
    "| --------------- |:------------:|:------------:|\n",
    "|       3.00         | -250.3   | -3.329\n",
    "|       2.70         | -249.7   | -2.995\n",
    "|       2.40         | -249.6   | -2.661\n",
    "|       2.10         | -249.5   | -2.329\n",
    "|       1.80         | -249.4   | -1.995\n",
    "|       1.50         | -249.3   | -1.663\n",
    "|       1.20         | -249.3   | -1.328\n",
    "|       0.90         | -249.2   | -0.998\n",
    "|       0.60         | -249.1   | -0.665\n",
    "|       0.30         | -249.0   | -0.333\n",
    "\n",
    "\n",
    "\n",
    "-------------------------------------------\n",
    "\n",
    "Positive Field, Positive Current\n",
    "\n",
    "| Current I, (mA) |Magnetic Field B, (mT) | Voltage, V_H (mV)\n",
    "| --------------- |:------------:|:------------:|\n",
    "|       3.00         | 301   | 4.046\n",
    "|       2.70         | 301   | 3.641\n",
    "|       2.40         | 301   | 3.235\n",
    "|       2.10         | 301 | 2.831\n",
    "|       1.80         | 301   | 2.427\n",
    "|       1.50         | 301   | 2.022\n",
    "|       1.20         | 301     | 1.618\n",
    "|       0.90         | 301   | 1.213\n",
    "|       0.60         | 301   | 0.809\n",
    "|       0.30         | 301   | 0.406\n",
    "\n",
    "Positive Field, Negative current:\n",
    "\n",
    "| Current I, (mA) |Magnetic Field B, (mT) | Voltage, V_H (mV)\n",
    "| --------------- |:------------:|:------------:|\n",
    "|       3.00         | 302   | -4.049\n",
    "|       2.70         | 302   | -3.644\n",
    "|       2.40         | 302   | -3.240\n",
    "|       2.10         | 302   | -2.834\n",
    "|       1.80         | 302   | -2.430\n",
    "|       1.50         | 302   | -2.024\n",
    "|       1.20         | 302   | -1.619\n",
    "|       0.90         | 302   | -1.215\n",
    "|       0.60         | 301   | -0.810\n",
    "|       0.30         | 301   | -0.405\n",
    "\n",
    "Negative Field, Negative current:\n",
    "\n",
    "| Current I, (mA) |Magnetic Field B, (mT) | Voltage, V_H (mV)\n",
    "| --------------- |:------------:|:------------:|\n",
    "|       3.00         | -301   | 4.017\n",
    "|       2.70         | -301   | 3.615\n",
    "|       2.40         | -301   | 3.213\n",
    "|       2.10         | -301   | 2.811\n",
    "|       1.80         | -301   | 2.410\n",
    "|       1.50         | -301   | 2.008\n",
    "|       1.20         | -301   | 1.607\n",
    "|       0.90         | -301   | 1.205\n",
    "|       0.60         | -301   | 0.804\n",
    "|       0.30         | -301   | 0.403\n",
    "\n",
    "Negative Field, Positive current:\n",
    "\n",
    "| Current I, (mA) |Magnetic Field B, (mT) | Voltage, V_H (mV)\n",
    "| --------------- |:------------:|:------------:|\n",
    "|       3.00         | -301   | -4.020\n",
    "|       2.70         | -301   | -3.617\n",
    "|       2.40         | -301   | -3.215\n",
    "|       2.10         | -301   | -2.814\n",
    "|       1.80         | -301   | -2.411\n",
    "|       1.50         | -301   | -2.010\n",
    "|       1.20         | -301   | -1.608\n",
    "|       0.90         | -301   | -1.206\n",
    "|       0.60         | -301   | -0.804\n",
    "|       0.30         | -301   | -0.405"
   ]
  },
  {
   "cell_type": "code",
   "execution_count": 14,
   "metadata": {},
   "outputs": [
    {
     "name": "stdout",
     "output_type": "stream",
     "text": [
      "[ 0.00014875  0.000297    0.000458    0.00059225  0.00073325  0.0008845\n",
      "  0.0010375   0.0011855   0.00133325  0.0014815 ]\n"
     ]
    }
   ],
   "source": [
    "I = np.arange(0.3,3.3,0.3)*10**-3\n",
    "V1 = np.array([0.153, 0.306, 0.510, 0.610, 0.763, 0.915, 1.068, 1.221, 1.374, 1.526]) * 10**-3\n",
    "V2 = np.array([-0.153, -0.305, -0.458, -0.611, -0.732, -0.915, -1.068, -1.221, -1.373, -1.525]) * 10**-3\n",
    "V4 = np.array([-0.145, -0.289, -0.433, -0.577, -0.720, -0.846, -1.008, -1.151, -1.294, -1.438]) * 10**-3\n",
    "V3 = np.array([0.144, 0.288, 0.431, 0.571, 0.718, 0.862, 1.006, 1.149, 1.292, 1.437]) * 10**-3\n",
    "V = (V1 - V2 + V3 - V4)/4\n",
    "B = 102.5 * 10**-3\n",
    "IB = I*B\n",
    "print V"
   ]
  },
  {
   "cell_type": "code",
   "execution_count": 10,
   "metadata": {},
   "outputs": [
    {
     "data": {
      "application/vnd.jupyter.widget-view+json": {
       "model_id": "15100983edd7409ea506b9f96841e69c",
       "version_major": 2,
       "version_minor": 0
      },
      "text/html": [
       "<p>Failed to display Jupyter Widget of type <code>FigureCanvasNbAgg</code>.</p>\n",
       "<p>\n",
       "  If you're reading this message in the Jupyter Notebook or JupyterLab Notebook, it may mean\n",
       "  that the widgets JavaScript is still loading. If this message persists, it\n",
       "  likely means that the widgets JavaScript library is either not installed or\n",
       "  not enabled. See the <a href=\"https://ipywidgets.readthedocs.io/en/stable/user_install.html\">Jupyter\n",
       "  Widgets Documentation</a> for setup instructions.\n",
       "</p>\n",
       "<p>\n",
       "  If you're reading this message in another frontend (for example, a static\n",
       "  rendering on GitHub or <a href=\"https://nbviewer.jupyter.org/\">NBViewer</a>),\n",
       "  it may mean that your frontend doesn't currently support widgets.\n",
       "</p>\n"
      ],
      "text/plain": [
       "FigureCanvasNbAgg()"
      ]
     },
     "metadata": {},
     "output_type": "display_data"
    },
    {
     "name": "stdout",
     "output_type": "stream",
     "text": [
      "[ 0.00014875  0.000297    0.000458    0.00059225  0.00073325  0.0008845\n",
      "  0.0010375   0.0011855   0.00133325  0.0014815 ]\n"
     ]
    }
   ],
   "source": [
    "fig1 = plt.figure()\n",
    "ax = fig1.add_subplot(111)\n",
    "ax.set_title('A plot of Current against Voltage, at fixed magnetic field strength')\n",
    "#ax.legend('For fixed B=0.374mT')\n",
    "ax.plot(IB, V)\n",
    "print V"
   ]
  },
  {
   "cell_type": "code",
   "execution_count": 11,
   "metadata": {},
   "outputs": [],
   "source": [
    "def y(x, A, B): # this is your 'straight line' y=f(x)\n",
    "    return A*x + B\n",
    "R_h_eff,foo = curve_fit(y, IB, V)[0] # your data x, y to fit"
   ]
  },
  {
   "cell_type": "code",
   "execution_count": 12,
   "metadata": {},
   "outputs": [
    {
     "name": "stdout",
     "output_type": "stream",
     "text": [
      "R_h effective= 4.8037447671 Ohm/Tesla\n"
     ]
    }
   ],
   "source": [
    "print 'R_h effective= ' + str(R_h_eff) + ' Ohm/Tesla'"
   ]
  },
  {
   "cell_type": "code",
   "execution_count": 13,
   "metadata": {},
   "outputs": [
    {
     "name": "stdout",
     "output_type": "stream",
     "text": [
      "mu = 0.229615732737 m^2/Vs\n",
      "n = 4.1551083182e+23 m^-3\n"
     ]
    }
   ],
   "source": [
    "mu = R_h_eff/rho * 3*10**-6\n",
    "print 'mu = ' + str(mu) + ' m^2/Vs'\n",
    "n = (R_h_eff*3*10**-6*1.67*10**-19)**-1\n",
    "print 'n = ' + str(n) + ' m^-3'"
   ]
  },
  {
   "cell_type": "markdown",
   "metadata": {},
   "source": [
    "$\\mu = 2296 {cm}^{2}V^{-1}s^{-1}$\n",
    "\n",
    "$n = 4.155x10^{17} {cm}^{-3}$"
   ]
  },
  {
   "cell_type": "code",
   "execution_count": 15,
   "metadata": {},
   "outputs": [
    {
     "data": {
      "text/plain": [
       "0.10250000000000001"
      ]
     },
     "execution_count": 15,
     "metadata": {},
     "output_type": "execute_result"
    }
   ],
   "source": [
    "B"
   ]
  }
 ],
 "metadata": {
  "kernelspec": {
   "display_name": "Python 2",
   "language": "python",
   "name": "python2"
  },
  "language_info": {
   "codemirror_mode": {
    "name": "ipython",
    "version": 2
   },
   "file_extension": ".py",
   "mimetype": "text/x-python",
   "name": "python",
   "nbconvert_exporter": "python",
   "pygments_lexer": "ipython2",
   "version": "2.7.14"
  }
 },
 "nbformat": 4,
 "nbformat_minor": 2
}
