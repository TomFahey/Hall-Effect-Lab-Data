{
 "cells": [
  {
   "cell_type": "code",
   "execution_count": 1,
   "metadata": {},
   "outputs": [],
   "source": [
    "import numpy as np\n",
    "from matplotlib import pyplot as plt\n",
    "from scipy.optimize import curve_fit\n",
    "import scipy.optimize as spo"
   ]
  },
  {
   "cell_type": "code",
   "execution_count": 2,
   "metadata": {},
   "outputs": [],
   "source": [
    "%matplotlib notebook"
   ]
  },
  {
   "cell_type": "code",
   "execution_count": 3,
   "metadata": {},
   "outputs": [],
   "source": [
    "t = 2*10**-6"
   ]
  },
  {
   "cell_type": "code",
   "execution_count": 4,
   "metadata": {},
   "outputs": [
    {
     "name": "stdout",
     "output_type": "stream",
     "text": [
      "[  3.93         3.93666667   3.93         3.93333333  10.94333333\n",
      "  10.94333333  10.93666667  10.93333333]\n",
      "[ 7.07        7.04666667  7.03333333  7.04      ]\n"
     ]
    }
   ],
   "source": [
    "# Sheet resistance measurements\n",
    "V1 = np.array([11.79, 11.81, 11.79, 11.80,\n",
    "               32.83, 32.83, 32.81, 32.80]) * 10**-3\n",
    "# Hall resistance measurements\n",
    "V2 = np.array([21.21, 21.14, 21.10, 21.12]) * 10**-3\n",
    "I = 3 * 10**-3\n",
    "\n",
    "# Sheet resistance\n",
    "R1 = V1/I\n",
    "# Hall resistance\n",
    "R2 = V2/I\n",
    "\n",
    "print R1\n",
    "print R2"
   ]
  },
  {
   "cell_type": "code",
   "execution_count": 5,
   "metadata": {},
   "outputs": [],
   "source": [
    "x = 20"
   ]
  },
  {
   "cell_type": "code",
   "execution_count": null,
   "metadata": {},
   "outputs": [],
   "source": []
  },
  {
   "cell_type": "markdown",
   "metadata": {},
   "source": [
    "# Lab data\n",
    "----------------------------------------------------------------------"
   ]
  },
  {
   "cell_type": "markdown",
   "metadata": {},
   "source": [
    "## InSb $(t=2\\mu m):$"
   ]
  },
  {
   "cell_type": "markdown",
   "metadata": {},
   "source": [
    "#### Measuring the sheet resistance, $R_{sh}$\n",
    "\n",
    "| Current I, (mA) |Voltage, $V_{ij,kl}$| Value, (mV) | Resistance ($\\Omega$)\n",
    "| --------------- |:------------:|:------------:|:------------:|\n",
    "|       3         | $V_{14,23}$  | 11.79 | 3.93\n",
    "|       3         | $V_{41,32}$  | 11.81 | 3.94\n",
    "|       3         | $V_{23,14}$  | 11.79 | 3.93\n",
    "|       3         | $V_{32,41}$  | 11.80 | 3.93\n",
    "|       3         | $V_{12,43}$  | 32.83 | 10.94\n",
    "|       3         | $V_{21,34}$  | 32.83 | 10.94\n",
    "|       3         | $V_{43,12}$  | 32.81 | 10.94\n",
    "|       3         | $V_{34,21}$  | 32.80 | 10.93\n",
    "\n",
    "#### Measuring the Hall Resistance\n",
    "| Current I, (mA) |Voltage, $V_{ij,kl}$| Value, (mV) | Resistance ($\\Omega$)\n",
    "| --------------- |:------------:|:------------:|:------------:|\n",
    "|       3         | $V_{13,24}$  | 21.21 | 7.07\n",
    "|       3         | $V_{31,42}$  | 21.14 | 7.05\n",
    "|       3         | $V_{24,13}$  | 21.10 | 7.03\n",
    "|       3         | $V_{42,31}$  | 21.12 | 7.04"
   ]
  },
  {
   "cell_type": "code",
   "execution_count": 8,
   "metadata": {},
   "outputs": [],
   "source": [
    "Ra = np.average(R1[4:-1])\n",
    "Rb = np.average(R1[0:4])\n",
    "ratio = 32.81/11.79"
   ]
  },
  {
   "cell_type": "code",
   "execution_count": 9,
   "metadata": {},
   "outputs": [],
   "source": [
    "def f(y, x=1.408):\n",
    "    return np.cosh((x-1)/(x+1) * np.log(2)/y) - 0.5*np.exp(np.log(2)/y)"
   ]
  },
  {
   "cell_type": "code",
   "execution_count": 10,
   "metadata": {},
   "outputs": [],
   "source": [
    "x0 = ratio\n",
    "z = spo.brentq(f, 0.01, 0.99, (x0))"
   ]
  },
  {
   "cell_type": "code",
   "execution_count": 11,
   "metadata": {},
   "outputs": [
    {
     "name": "stdout",
     "output_type": "stream",
     "text": [
      "rho = 6.18739360222e-05 Ohm m\n",
      "sigma = 16161.8940751 W / K*m\n"
     ]
    }
   ],
   "source": [
    "R_sh = (np.pi / np.log(2)) * ((Ra+Rb)/2) * z\n",
    "rho = R_sh * t\n",
    "print 'rho = ' + str(rho)+' Ohm m'\n",
    "print 'sigma = ' + str(rho**-1)+' W / K*m'"
   ]
  },
  {
   "cell_type": "code",
   "execution_count": 12,
   "metadata": {},
   "outputs": [
    {
     "data": {
      "text/plain": [
       "161.61894075091254"
      ]
     },
     "execution_count": 12,
     "metadata": {},
     "output_type": "execute_result"
    }
   ],
   "source": [
    "1 / (rho*100)"
   ]
  },
  {
   "cell_type": "markdown",
   "metadata": {},
   "source": [
    "$\\rho = 6.19x10^{-3} \\Omega {cm}^{-1}$\n",
    "\n",
    "$\\sigma = 161.6 W K^{-1} {cm}^{-1}$"
   ]
  },
  {
   "cell_type": "code",
   "execution_count": 13,
   "metadata": {},
   "outputs": [
    {
     "name": "stdout",
     "output_type": "stream",
     "text": [
      "30.9369680111\n"
     ]
    }
   ],
   "source": [
    "print R_sh"
   ]
  },
  {
   "cell_type": "markdown",
   "metadata": {},
   "source": [
    "#### $R_{H}$ : Measuring the Hall coefficient, for fixed magnetic field strength\n",
    "\n",
    "Positive Field, Positive Current\n",
    "\n",
    "| Current I, (mA) |Magnetic Field B, (mT) | Voltage, V_H (mV)\n",
    "| --------------- |:------------:|:------------:|\n",
    "|       3.00         | 100.2   | 57.490\n",
    "|       2.70         | 100.2   | 51.755\n",
    "|       2.40         | 100.2   | 46.035\n",
    "|       2.10         | 100.2   | 40.310\n",
    "|       1.80         | 100.2   | 34.573\n",
    "|       1.50         | 100.3   | 28.865\n",
    "|       1.20         | 100.3   | 23.187\n",
    "|       0.90         | 100.3   | 17.476\n",
    "|       0.60         | 100.3   | 11.659\n",
    "|       0.30         | 100.5   | 5.840\n",
    "\n",
    "\n",
    "Positive Field, Negative current:\n",
    "\n",
    "| Current I, (mA) |Magnetic Field B, (mT) | Voltage, V_H (mV)\n",
    "| --------------- |:------------:|:------------:|\n",
    "|       3.00         | 100.2   | -56.734\n",
    "|       2.70         | 100.2   | -51.064\n",
    "|       2.40         | 99.7   | -45.430\n",
    "|       2.10         | 99.7   | -39.775\n",
    "|       1.80         | 99.8   | -34.112\n",
    "|       1.50         | 99.7   | -28.430\n",
    "|       1.20         | 99.8   | -22.764\n",
    "|       0.90         | 99.8   | -17.073\n",
    "|       0.60         | 99.8   | -11.389\n",
    "|       0.30         | 100.1   | -5.715\n",
    "\n",
    "Negative Field, Negative current:\n",
    "\n",
    "| Current I, (mA) |Magnetic Field B, (mT) | Voltage, V_H (mV)\n",
    "| --------------- |:------------:|:------------:|\n",
    "|       3.00         | -100.3   | 57.540\n",
    "|       2.70         | -100.3   | 51.813\n",
    "|       2.40         | -100.3   | 46.077\n",
    "|       2.10         | -100.3   | 40.330\n",
    "|       1.80         | -99.4   | 34.582\n",
    "|       1.50         | -99.4   | 28.827\n",
    "|       1.20         | -99.4   | 23.065\n",
    "|       0.90         | -99.4   | 17.303\n",
    "|       0.60         | -99.4   | 11.544\n",
    "|       0.30         | -99.9   | 5.813\n",
    "\n",
    "Negative Field, Positive current:\n",
    "\n",
    "| Current I, (mA) |Magnetic Field B, (mT) | Voltage, V_H (mV)\n",
    "| --------------- |:------------:|:------------:|\n",
    "|       3.00         | -100.3   | -59.040\n",
    "|       2.70         | -100.3   | -53.191\n",
    "|       2.40         | -101.4   | -47.309\n",
    "|       2.10         | -101.4   | -41.427\n",
    "|       1.80         | -101.4   | -35.540\n",
    "|       1.50         | -101.4   | -29.640\n",
    "|       1.20         | -101.3   | -23.738\n",
    "|       0.90         | -101.3   | -17.818\n",
    "|       0.60         | -101.2   | -11.905\n",
    "|       0.30         | -100.2   | -5.983\n",
    "\n",
    "\n",
    "-------------------------------------------\n",
    "\n",
    "\n",
    "Positive Field, Positive Current\n",
    "\n",
    "| Current I, (mA) |Magnetic Field B, (mT) | Voltage, V_H (mV)\n",
    "| --------------- |:------------:|:------------:|\n",
    "|       3.00         | 149.1   | 84.365\n",
    "|       2.70         | 149.1   | 75.968\n",
    "|       2.40         | 149.2   | 67.555\n",
    "|       2.10         | 149.2   | 59.161\n",
    "|       1.80         | 149.2   | 50.737\n",
    "|       1.50         | 149.2   | 42.303\n",
    "|       1.20         | 149.2   | 33.870\n",
    "|       0.90         | 149.2   | 25.412\n",
    "|       0.60         | 149.2   | 16.962\n",
    "|       0.30         | 149.2   | 8.498\n",
    "\n",
    "Positive Field, Negative current:\n",
    "\n",
    "| Current I, (mA) |Magnetic Field B, (mT) | Voltage, V_H (mV)\n",
    "| --------------- |:------------:|:------------:|\n",
    "|       3.00         | 150.1   | -84.170\n",
    "|       2.70         | 150.1   | -75.767\n",
    "|       2.40         | 150.1   | -67.374\n",
    "|       2.10         | 150.1   | -58.986\n",
    "|       1.80         | 150.1   | -50.581\n",
    "|       1.50         | 150.1   | -42.163\n",
    "|       1.20         | 150.1   | -33.744\n",
    "|       0.90         | 150.1   | -25.311\n",
    "|       0.60         | 150.0   | -16.886\n",
    "|       0.30         | 149.1   | -8.453\n",
    "\n",
    "Negative Field, Negative current:\n",
    "\n",
    "| Current I, (mA) |Magnetic Field B, (mT) | Voltage, V_H (mV)\n",
    "| --------------- |:------------:|:------------:|\n",
    "|       3.00         | -150.9   | 87.620\n",
    "|       2.70         | -150.9   | 78.875\n",
    "|       2.40         | -150.9   | 70.141\n",
    "|       2.10         | -150.9   | 61.403\n",
    "|       1.80         | -150.9   | 52.663\n",
    "|       1.50         | -150.8   | 43.899\n",
    "|       1.20         | -150.8   | 35.141\n",
    "|       0.90         | -150.8   | 26.370\n",
    "|       0.60         | -150.8   | 17.600\n",
    "|       0.30         | -150.7   | 8.818\n",
    "\n",
    "Negative Field, Positive current:\n",
    "\n",
    "| Current I, (mA) |Magnetic Field B, (mT) | Voltage, V_H (mV)\n",
    "| --------------- |:------------:|:------------:|\n",
    "|       3.00         | -150.5   | -87.31\n",
    "|       2.70         | -150.8   | -78.610\n",
    "|       2.40         | -150.8   | -69.904\n",
    "|       2.10         | -150.8   | -63.894\n",
    "|       1.80         | -150.8   | -52.473\n",
    "|       1.50         | -150.8   | -43.738\n",
    "|       1.20         | -150.8   | -35.012\n",
    "|       0.90         | -150.8   | -26.262\n",
    "|       0.60         | -150.8   | -17.520\n",
    "|       0.30         | -150.9   | -8.770\n",
    "\n",
    "\n",
    "-------------------------------------------\n",
    "\n",
    "Positive Field, Positive Current\n",
    "\n",
    "| Current I, (mA) |Magnetic Field B, (mT) | Voltage, V_H (mV)\n",
    "| --------------- |:------------:|:------------:|\n",
    "|       3.00         | 198.5   | 111.413\n",
    "|       2.70         | 198.5   | 100.294\n",
    "|       2.40         | 198.5   | 89.181\n",
    "|       2.10         | 198.5   | 78.080\n",
    "|       1.80         | 198.5   | 66.954\n",
    "|       1.50         | 198.5   | 55.820\n",
    "|       1.20         | 198.5   | 44.688\n",
    "|       0.90         | 198.5   | 33.530\n",
    "|       0.60         | 198.5   | 22.384\n",
    "|       0.30         | 198.5   | 11.224\n",
    "\n",
    "Positive Field, Negative current:\n",
    "\n",
    "| Current I, (mA) |Magnetic Field B, (mT) | Voltage, V_H (mV)\n",
    "| --------------- |:------------:|:------------:|\n",
    "|       3.00         | 198.5   | -111.111\n",
    "|       2.70         | 198.5   | -100.039\n",
    "|       2.40         | 198.5   | -88.948 \n",
    "|       2.10         | 198.5   | -77.853\n",
    "|       1.80         | 198.5   | -66.749\n",
    "|       1.50         | 198.5   | -55.641\n",
    "|       1.20         | 198.5   | -44.530\n",
    "|       0.90         | 198.5   | -33.404\n",
    "|       0.60         | 198.5   | -22.285\n",
    "|       0.30         | 198.5   | -11.155\n",
    "\n",
    "Negative Field, Negative current:\n",
    "\n",
    "| Current I, (mA) |Magnetic Field B, (mT) | Voltage, V_H (mV)\n",
    "| --------------- |:------------:|:------------:|\n",
    "|       3.00         | -198.9   | 113.50\n",
    "|       2.70         | -198.8   | 102.16\n",
    "|       2.40         | -198.8   | 90.90\n",
    "|       2.10         | -198.9   | 79.576\n",
    "|       1.80         | -198.9   | 68.246\n",
    "|       1.50         | -198.9   | 56.915 \n",
    "|       1.20         | -198.8   | 45.572\n",
    "|       0.90         | -199.9   | 34.208\n",
    "|       0.60         | -199.9   | 22.863\n",
    "|       0.30         | -198.9   | 12.094\n",
    "\n",
    "Negative Field, Positive current:\n",
    "\n",
    "| Current I, (mA) |Magnetic Field B, (mT) | Voltage, V_H (mV)\n",
    "| --------------- |:------------:|:------------:|\n",
    "|       3.00         | -198.8   | -113.17\n",
    "|       2.70         | -198.8   | -101.87\n",
    "|       2.40         | -198.9   | -90.584\n",
    "|       2.10         | -198.9   | -79.286\n",
    "|       1.80         | -198.9   | -67.989\n",
    "|       1.50         | -198.8   | -56.670\n",
    "|       1.20         | -198.9   | -45.359\n",
    "|       0.90         | -198.9   | -34.028\n",
    "|       0.60         | -198.8   | -22.697\n",
    "|       0.30         | -198.8   | -11.361\n",
    "\n",
    "\n",
    "-------------------------------------------\n",
    "\n",
    "Positive Field, Positive Current\n",
    "\n",
    "| Current I, (mA) |Magnetic Field B, (mT) | Voltage, V_H (mV)\n",
    "| --------------- |:------------:|:------------:|\n",
    "|       3.00         | 249.7   | 136.24\n",
    "|       2.70         | 249.7   | 122.662\n",
    "|       2.40         | 249.7   | 109.071\n",
    "|       2.10         | 249.7   | 93.530\n",
    "|       1.80         | 249.7   | 81.874\n",
    "|       1.50         | 249.7   | 68.257\n",
    "|       1.20         | 249.7   | 54.630\n",
    "|       0.90         | 249.7   | 40.988\n",
    "|       0.60         | 249.7   | 27.351\n",
    "|       0.30         | 249.7   | 13.707\n",
    "\n",
    "Positive Field, Negative current:\n",
    "\n",
    "| Current I, (mA) |Magnetic Field B, (mT) | Voltage, V_H (mV)\n",
    "| --------------- |:------------:|:------------:|\n",
    "|       3.00         | 249.9   | -135.893\n",
    "|       2.70         | 249.8   | -122.347\n",
    "|       2.40         | 249.7   | -108.781\n",
    "|       2.10         | 249.7   | -95.220\n",
    "|       1.80         | 249.5   | -81.672\n",
    "|       1.50         | 249.8   | -68.094\n",
    "|       1.20         | 249.3   | -54.496\n",
    "|       0.90         | 249.2   | -40.879\n",
    "|       0.60         | 249.1   | -27.267\n",
    "|       0.30         | 249.7   | -13.648\n",
    "\n",
    "Negative Field, Negative current:\n",
    "\n",
    "| Current I, (mA) |Magnetic Field B, (mT) | Voltage, V_H (mV)\n",
    "| --------------- |:------------:|:------------:|\n",
    "|       3.00         | -249.9   | 139.70\n",
    "|       2.70         | -249.9   | 125.35\n",
    "|       2.40         | -249.7   | 111.46\n",
    "|       2.10         | -249.6   | 97.57\n",
    "|       1.80         | -249.5   | 83.670\n",
    "|       1.50         | -250.2   | 69.775\n",
    "|       1.20         | -250.2   | 55.845\n",
    "|       0.90         | -250.1   | 41.910\n",
    "|       0.60         | -250.1   | 28.004\n",
    "|       0.30         | -250.1   | 14.710\n",
    "\n",
    "Negative Field, Positive current:\n",
    "\n",
    "| Current I, (mA) |Magnetic Field B, (mT) | Voltage, V_H (mV)\n",
    "| --------------- |:------------:|:------------:|\n",
    "|       3.00         | -249.9   | -137.48\n",
    "|       2.70         | -249.9   | -123.76\n",
    "|       2.40         | -249.9   | -110.06\n",
    "|       2.10         | -249.9   | -96.34\n",
    "|       1.80         | -249.9   | -82.611\n",
    "|       1.50         | -249.9   | -68.866\n",
    "|       1.20         | -249.9   | -55.120\n",
    "|       0.90         | -249.9   | -41.355\n",
    "|       0.60         | -249.9   | -27.585\n",
    "|       0.30         | -249.9   | -13.811\n",
    "\n",
    "\n",
    "\n",
    "-------------------------------------------\n",
    "\n",
    "Positive Field, Positive Current\n",
    "\n",
    "| Current I, (mA) |Magnetic Field B, (mT) | Voltage, V_H (mV)\n",
    "| --------------- |:------------:|:------------:|\n",
    "|       3.00         | 301   | 158.02\n",
    "|       2.70         | 301   | 142.27\n",
    "|       2.40         | 301   | 126.520\n",
    "|       2.10         | 301 | 110.758\n",
    "|       1.80         | 301   | 94.978\n",
    "|       1.50         | 301   | 79.182\n",
    "|       1.20         | 302     | 63.394\n",
    "|       0.90         | 302   | 47.584\n",
    "|       0.60         | 302   | 31.761\n",
    "|       0.30         | 302   | 15.928\n",
    "\n",
    "Positive Field, Negative current:\n",
    "\n",
    "| Current I, (mA) |Magnetic Field B, (mT) | Voltage, V_H (mV)\n",
    "| --------------- |:------------:|:------------:|\n",
    "|       3.00         | 302   | -157.64\n",
    "|       2.70         | 302   | -141.94\n",
    "|       2.40         | 302   | -126.227\n",
    "|       2.10         | 303   | -110.487\n",
    "|       1.80         | 301   | -94.745\n",
    "|       1.50         | 302   | -78.975\n",
    "|       1.20         | 303   | -63.199\n",
    "|       0.90         | 301   | -47.412\n",
    "|       0.60         | 302   | -31.630\n",
    "|       0.30         | 302   | -15.833\n",
    "\n",
    "Negative Field, Negative current:\n",
    "\n",
    "| Current I, (mA) |Magnetic Field B, (mT) | Voltage, V_H (mV)\n",
    "| --------------- |:------------:|:------------:|\n",
    "|       3.00         | -301   | 161.28\n",
    "|       2.70         | -301   | 145.20\n",
    "|       2.40         | -301   | 129.13\n",
    "|       2.10         | -301   | 113.05\n",
    "|       1.80         | -301   | 96.946\n",
    "|       1.50         | -301   | 80.823\n",
    "|       1.20         | -301   | 64.695\n",
    "|       0.90         | -301   | 48.543\n",
    "|       0.60         | -301   | 32.389\n",
    "|       0.30         | -301   | 16.221\n",
    "\n",
    "Negative Field, Positive current:\n",
    "\n",
    "| Current I, (mA) |Magnetic Field B, (mT) | Voltage, V_H (mV)\n",
    "| --------------- |:------------:|:------------:|\n",
    "|       3.00         | -301   | -160.71\n",
    "|       2.70         | -301   | -144.70\n",
    "|       2.40         | -301   | -128.68\n",
    "|       2.10         | -301   | -112.64\n",
    "|       1.80         | -301   | -96.586\n",
    "|       1.50         | -301   | -80.521\n",
    "|       1.20         | -301   | -64.439\n",
    "|       0.90         | -301   | -48.342\n",
    "|       0.60         | -301   | -32.252\n",
    "|       0.30         | -301   | -16.146"
   ]
  },
  {
   "cell_type": "code",
   "execution_count": 14,
   "metadata": {},
   "outputs": [],
   "source": [
    "I = np.arange(0.3,3.3,0.3)*10**-3\n",
    "V1 = np.array([5.840, 11.659, 17.476, 23.187, 28.865, 34.573, 40.310, 46.035, 51.755, 57.490]) * 10**-3\n",
    "V2 = np.array([-5.715, -11.389, -17.073, -22.764, -28.43, -34.112, -39.775, -45.430, -51.064, -56.734]) * 10**-3\n",
    "V3 = np.array([5.813, 11.544, 17.303, 23.065, 28.827, 34.582, 40.330, 46.077, 51.813, 57.540]) * 10**-3\n",
    "V4 = np.array([-5.983, -11.905, -17.818, -23.738, -29.640, -35.540, -41.427, -47.309, -53.191, -59.040]) * 10**-3\n",
    "V = (V1 - V2 + V3 - V4)/4\n",
    "B1 = np.array([100.5, 100.3, 100.3, 100.3, 100.3, 100.2, 100.2, 100.2, 100.2, 100.2]) * 10**-3\n",
    "B2 = np.array([100.1, 99.8, 99.8, 99.8, 99.7, 99.8, 99.7, 99.7, 100.2, 100.2]) * 10**-3\n",
    "B3 = np.array([99.9, 99.4, 99.4, 99.4, 99.4, 99.4, 100.3, 100.3, 100.3, 100.3]) * 10**-3\n",
    "B4 = np.array([-101.2, -101.2, -101.3, -101.3, -101.4, -101.4, -101.4, -101.4, -101.3, -101.3]) * 10**-3\n",
    "B = 100*10**-3\n",
    "IB = I*B\n",
    "VB1 = V1/B1\n",
    "VB2 = V2/B2\n",
    "VB3 = V3/B3\n",
    "VB4 = V4/B4\n",
    "VB = (VB1 - VB2 + VB3 - VB4)/4"
   ]
  },
  {
   "cell_type": "code",
   "execution_count": 15,
   "metadata": {},
   "outputs": [
    {
     "data": {
      "application/vnd.jupyter.widget-view+json": {
       "model_id": "7d74e5c5bc5e4aebbd1c8264ab39f4ea",
       "version_major": 2,
       "version_minor": 0
      },
      "text/html": [
       "<p>Failed to display Jupyter Widget of type <code>FigureCanvasNbAgg</code>.</p>\n",
       "<p>\n",
       "  If you're reading this message in the Jupyter Notebook or JupyterLab Notebook, it may mean\n",
       "  that the widgets JavaScript is still loading. If this message persists, it\n",
       "  likely means that the widgets JavaScript library is either not installed or\n",
       "  not enabled. See the <a href=\"https://ipywidgets.readthedocs.io/en/stable/user_install.html\">Jupyter\n",
       "  Widgets Documentation</a> for setup instructions.\n",
       "</p>\n",
       "<p>\n",
       "  If you're reading this message in another frontend (for example, a static\n",
       "  rendering on GitHub or <a href=\"https://nbviewer.jupyter.org/\">NBViewer</a>),\n",
       "  it may mean that your frontend doesn't currently support widgets.\n",
       "</p>\n"
      ],
      "text/plain": [
       "FigureCanvasNbAgg()"
      ]
     },
     "metadata": {},
     "output_type": "display_data"
    },
    {
     "name": "stdout",
     "output_type": "stream",
     "text": [
      "[ 0.00583775  0.01162425  0.0174175   0.0231885   0.0289405   0.03470175\n",
      "  0.0404605   0.04621275  0.05195575  0.057701  ]\n"
     ]
    }
   ],
   "source": [
    "fig1 = plt.figure()\n",
    "ax = fig1.add_subplot(111)\n",
    "ax.set_title('A plot of Current against Voltage, at fixed magnetic field strength')\n",
    "#ax.legend('For fixed B=0.374mT')\n",
    "ax.plot(V*1000, IB*1000)\n",
    "ax.set_xlabel(\"Current x B-field strength IB / (A mT)\")\n",
    "ax.set_ylabel(\"Voltage / (mV)\")\n",
    "print V"
   ]
  },
  {
   "cell_type": "code",
   "execution_count": 16,
   "metadata": {},
   "outputs": [],
   "source": [
    "def y(x, A, B):\n",
    "    return A*x + B\n",
    "R_h_eff,foo = curve_fit(y, IB, V)[0]"
   ]
  },
  {
   "cell_type": "code",
   "execution_count": 17,
   "metadata": {},
   "outputs": [
    {
     "name": "stdout",
     "output_type": "stream",
     "text": [
      "R_h effective= 192.04914137 Ohm/Tesla\n"
     ]
    }
   ],
   "source": [
    "print 'R_h effective= ' + str(R_h_eff) + ' Ohm/Tesla'"
   ]
  },
  {
   "cell_type": "code",
   "execution_count": 18,
   "metadata": {},
   "outputs": [
    {
     "name": "stdout",
     "output_type": "stream",
     "text": [
      "mu = 6.20775576006 m^2/Vs\n",
      "n = 1.55898222439e+22 m^-3\n"
     ]
    }
   ],
   "source": [
    "mu = R_h_eff/rho * t\n",
    "print 'mu = ' + str(mu) + ' m^2/Vs'\n",
    "n = (R_h_eff*t*1.67*10**-19)**-1\n",
    "print 'n = ' + str(n) + ' m^-3'"
   ]
  },
  {
   "cell_type": "markdown",
   "metadata": {},
   "source": [
    "$\\mu = 62078 {cm}^{2}V^{-1}s^{-1}$\n",
    "\n",
    "$n = 1.56x10^{16} {cm}^{-3}$"
   ]
  },
  {
   "cell_type": "code",
   "execution_count": 19,
   "metadata": {},
   "outputs": [
    {
     "data": {
      "text/plain": [
       "0.1"
      ]
     },
     "execution_count": 19,
     "metadata": {},
     "output_type": "execute_result"
    }
   ],
   "source": [
    "B"
   ]
  }
 ],
 "metadata": {
  "kernelspec": {
   "display_name": "Python 2",
   "language": "python",
   "name": "python2"
  },
  "language_info": {
   "codemirror_mode": {
    "name": "ipython",
    "version": 2
   },
   "file_extension": ".py",
   "mimetype": "text/x-python",
   "name": "python",
   "nbconvert_exporter": "python",
   "pygments_lexer": "ipython2",
   "version": "2.7.14"
  }
 },
 "nbformat": 4,
 "nbformat_minor": 2
}
